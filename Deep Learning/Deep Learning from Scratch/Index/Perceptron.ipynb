{
 "cells": [
  {
   "cell_type": "markdown",
   "id": "1a820038",
   "metadata": {},
   "source": [
    "# 퍼셉트론"
   ]
  },
  {
   "cell_type": "markdown",
   "id": "094ce781",
   "metadata": {},
   "source": [
    "퍼셉트론은 1957년에 *프랑크 로젠블라트*가 고안한 알고리즘이다.\n",
    "\n",
    "퍼셉트론을 통해 신경망 알고리즘이 탄생했기 때문에 퍼셉트론 구조를 배우는 것은 신경망과 딥러닝의 기초가 된다."
   ]
  },
  {
   "cell_type": "markdown",
   "id": "c5047f8a",
   "metadata": {},
   "source": [
    "## 1. 페섭트론"
   ]
  },
  {
   "cell_type": "markdown",
   "id": "3afaa4a2",
   "metadata": {},
   "source": [
    "다수의 신호를 입력으로 받아 하나의 신호 출력\n",
    "\n",
    "1. 입력 신호가 뉴련에 보내질 때는 가중치가 곱해지고 현향이 더해짐\n",
    "2. 신호의 총합이 임계값을 넘어가면 뉴련 활성화\n",
    "- **weight(가중치)** 크기 = 해당 신호의 중요도\n",
    "- **bias(편향)**의 크기 = 뉴런의 활성화 난이도"
   ]
  },
  {
   "cell_type": "markdown",
   "id": "5120638a",
   "metadata": {},
   "source": [
    "y = 0(*b + w<sub>1</sub>w<sub>1</sub>*+ ... + *w<sub>n</sub>w<sub>n</sub>* <= 0) or 1(*b + w<sub>1</sub>w<sub>1</sub>*+ ... + *w<sub>n</sub>w<sub>n</sub>* > 1)"
   ]
  },
  {
   "cell_type": "markdown",
   "id": "b351437f",
   "metadata": {},
   "source": [
    "## 2. 단순한 논리회로"
   ]
  },
  {
   "cell_type": "markdown",
   "id": "b5a1820d",
   "metadata": {},
   "source": [
    "### 2.1. AND 게이트"
   ]
  },
  {
   "cell_type": "code",
   "execution_count": 9,
   "id": "07d6dcec",
   "metadata": {},
   "outputs": [],
   "source": [
    "import numpy as np\n",
    "\n",
    "def AND(x1, x2):\n",
    "  x = np.array([x1, x2])\n",
    "  w = np.array([0.5, 0.5])\n",
    "  b = -0.7\n",
    "  tmp = np.sum(w*x) + b\n",
    "  \n",
    "  if tmp <= 0:\n",
    "    return 0\n",
    "  elif tmp > 1:\n",
    "    return 1"
   ]
  },
  {
   "cell_type": "markdown",
   "id": "535284c2",
   "metadata": {},
   "source": [
    "### 2.2. NAND 게이트"
   ]
  },
  {
   "cell_type": "code",
   "execution_count": 10,
   "id": "6a2c710b",
   "metadata": {},
   "outputs": [],
   "source": [
    "import numpy as np\n",
    "\n",
    "def NAND(x1, x2):\n",
    "  x = np.array([x1, x2])\n",
    "  w = np.array([-0.5, -0.5])\n",
    "  b = -0.7\n",
    "  tmp = np.sum(w*x) + b\n",
    "  \n",
    "  if tmp <= 0:\n",
    "    return 0\n",
    "  elif tmp > 1:\n",
    "    return 1"
   ]
  },
  {
   "cell_type": "markdown",
   "id": "631673ce",
   "metadata": {},
   "source": [
    "### 2.3. OR 게이트"
   ]
  },
  {
   "cell_type": "code",
   "execution_count": 11,
   "id": "eabe5ee2",
   "metadata": {},
   "outputs": [],
   "source": [
    "import numpy as np\n",
    "\n",
    "def AND(x1, x2):\n",
    "  x = np.array([x1, x2])\n",
    "  w = np.array([0.5, 0.5])\n",
    "  b = -0.2\n",
    "  tmp = np.sum(w*x) + b\n",
    "  \n",
    "  if tmp <= 0:\n",
    "    return 0\n",
    "  elif tmp > 1:\n",
    "    return 1"
   ]
  },
  {
   "cell_type": "markdown",
   "id": "70fc072c",
   "metadata": {},
   "source": [
    "## 3. 퍼셉트론의 한계"
   ]
  },
  {
   "cell_type": "markdown",
   "id": "6a730502",
   "metadata": {},
   "source": [
    "퍼셉트론은 직선 하나로 영역을 나눈다. 그렇기 때문에 직선 하나로 영역을 구분할 수 없는 문제는 퍼셉트론으로 풀 수 없다."
   ]
  },
  {
   "cell_type": "markdown",
   "id": "bbe5eff3",
   "metadata": {},
   "source": [
    "### 4. 다층 퍼셉트론"
   ]
  },
  {
   "cell_type": "markdown",
   "id": "82eff4b1",
   "metadata": {},
   "source": [
    "퍼셉트론의 층을 쌓아 만든 알고리즘이다."
   ]
  },
  {
   "cell_type": "markdown",
   "id": "b08a06a8",
   "metadata": {},
   "source": [
    "### 4.1 XOR 게이트"
   ]
  },
  {
   "cell_type": "markdown",
   "id": "68a12b65",
   "metadata": {},
   "source": [
    "XOR의 경우 AND, NAND, OR처럼 직선 하나로 구분할 수 없다. 따라서 다음과 같이 AND, NAND, OR을 활용한 다층 퍼셉트론으로 구현할 수 있다."
   ]
  },
  {
   "cell_type": "code",
   "execution_count": 14,
   "id": "7c8015fb",
   "metadata": {},
   "outputs": [],
   "source": [
    "def XOR(x1, x2):\n",
    "  s1 = NAND(x1, x2) # 1층\n",
    "  s2 = OR(x1, x2)   # 2층\n",
    "  y = AND(s1, s2)\n",
    "  return y"
   ]
  },
  {
   "cell_type": "markdown",
   "id": "7595944f",
   "metadata": {},
   "source": [
    "XOR은 다층 퍼셉트론 중 2층 퍼셉트론에 해당한다."
   ]
  }
 ],
 "metadata": {
  "kernelspec": {
   "display_name": "Python 3",
   "language": "python",
   "name": "python3"
  },
  "language_info": {
   "codemirror_mode": {
    "name": "ipython",
    "version": 3
   },
   "file_extension": ".py",
   "mimetype": "text/x-python",
   "name": "python",
   "nbconvert_exporter": "python",
   "pygments_lexer": "ipython3",
   "version": "3.8.8"
  }
 },
 "nbformat": 4,
 "nbformat_minor": 5
}

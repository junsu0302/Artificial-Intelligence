{
 "cells": [
  {
   "cell_type": "markdown",
   "id": "afabc0c6",
   "metadata": {},
   "source": [
    "# 신경망 학습"
   ]
  },
  {
   "cell_type": "code",
   "execution_count": 21,
   "id": "1618fa9f",
   "metadata": {},
   "outputs": [],
   "source": [
    "import numpy as np\n",
    "import matplotlib.pylab as plt"
   ]
  },
  {
   "cell_type": "markdown",
   "id": "2480af0d",
   "metadata": {},
   "source": [
    "신경망을 **학습**시키기 위해 **손실 함수**를 사용한다.\n",
    "\n",
    "- **학습** : 훈련 데이터로부터 가중치 매개변수의 최적값을 자동으로 획득\n",
    "- **손실 함수** : 결과값을 가장 작게 만드는 가중치 매개변수를 찾는 함수"
   ]
  },
  {
   "cell_type": "markdown",
   "id": "023f9f31",
   "metadata": {},
   "source": [
    "## 1. 데이터를 통한 학습"
   ]
  },
  {
   "cell_type": "markdown",
   "id": "453ce022",
   "metadata": {},
   "source": [
    "신경망은 데이터를 통해 가중치 매개변수 값을 자동으로 결정할 수 있다."
   ]
  },
  {
   "cell_type": "markdown",
   "id": "fbd456cf",
   "metadata": {},
   "source": [
    "### 1.1. 데이터 주도 학습"
   ]
  },
  {
   "cell_type": "markdown",
   "id": "506fd26b",
   "metadata": {},
   "source": [
    "**기계학습**은 사람의 개입을 최소화하고 수집한 데이터로부터 패턴을 찾는다. 패턴을 찾기 위해서는 데이터에서 **특징(feature)** 을 추출해야한다. \n",
    "\n",
    "여기서 특징은 *입력 데이터에서 본질적인 데이터를 추출할 수 있는 설계 방법*을 의미한다."
   ]
  },
  {
   "cell_type": "markdown",
   "id": "bff97f71",
   "metadata": {},
   "source": [
    "### 1.2. 훈련 데이터와 시험 데이터"
   ]
  },
  {
   "cell_type": "markdown",
   "id": "393b77f4",
   "metadata": {},
   "source": [
    "기계학습 문제는 데이터를 **훈련 데이터**와 **시험 데이터**로 나눠서 학습과 실험을 수행한다.\n",
    "\n",
    "- **훈련 데이터(training data)** : 학습을 통한 최적의 매개변수 도출\n",
    "- **시험 데이터(test data)** : 훈련한 모델의 성능 평가"
   ]
  },
  {
   "cell_type": "markdown",
   "id": "12ecc80f",
   "metadata": {},
   "source": [
    "이렇게 데이터를 나누는 것은 모델의 **범용 능력**을 평가하기 위함이다. \n",
    "- **범용 능력** : 훈련 데이터에 미포함된 데이터로도 문제를 풀 수 있는 능력\n",
    "\n",
    "데이터셋 하나로만 매개변수를 학습하고 평가한다면 다른 데이터셋에서는 올바른 동작을 할 수 없다. 이를 **오버피팅**이라고 한다.\n",
    "\n",
    "- **오버피팅(overfitting)** : 한 데이터셋에만 지나치게 최적화된 상태"
   ]
  },
  {
   "cell_type": "markdown",
   "id": "21bbbe0c",
   "metadata": {},
   "source": [
    "## 2. 손실 함수"
   ]
  },
  {
   "cell_type": "markdown",
   "id": "07d38b8e",
   "metadata": {},
   "source": [
    "**손실 함수**는 신경망 성능의 '나쁨'을 나타내는 지표다. 즉 현재 신경망이 훈련 데이터를 얼마나 잘 처리하지 못하는가를 의미한다. \n",
    "\n",
    "신경망은 손실 함수를 지표로 사용하여 최적의 매개변수 값을 탐색한다."
   ]
  },
  {
   "cell_type": "markdown",
   "id": "d72e7ca0",
   "metadata": {},
   "source": [
    "### 2.1. 평균 제곱 오차"
   ]
  },
  {
   "cell_type": "markdown",
   "id": "5eaa46e1",
   "metadata": {},
   "source": [
    "**평균 제곱 오차(Mean Squared Error, MSE)** 는 가장 많이 쓰이는 손실 함수로 식은 다음과 같다.\n",
    "\n",
    "$E = \\frac{1}{2}\\sum_{i=1}^{k} {(y_k-t_k)^2}$\n",
    "\n",
    "- $y_t$ : 신경망의 출력(신경망이 추정한 값)\n",
    "- $t_k$ : 정답 레이블\n",
    "- $k$ : 데이터의 차원 수"
   ]
  },
  {
   "cell_type": "markdown",
   "id": "1f84f442",
   "metadata": {},
   "source": [
    "위 식을 코드로 구현하면 다음과 같다."
   ]
  },
  {
   "cell_type": "code",
   "execution_count": 3,
   "id": "882f62f1",
   "metadata": {},
   "outputs": [],
   "source": [
    "def mean_squared_error(y, t):\n",
    "    return 0.5 * np.sum((y-t)**2)"
   ]
  },
  {
   "cell_type": "code",
   "execution_count": 5,
   "id": "890a7501",
   "metadata": {},
   "outputs": [
    {
     "data": {
      "text/plain": [
       "0.09645000000000001"
      ]
     },
     "execution_count": 5,
     "metadata": {},
     "output_type": "execute_result"
    }
   ],
   "source": [
    "import numpy as np\n",
    "t = [0, 0, 1, 0, 0, 0, 0, 0, 0, 0]\n",
    "y = [0.1, 0.02, 0.6, 0.0, 0.05, 0.1, 0.0, 0.1, 0.0, 0.0]\n",
    "mean_squared_error(np.array(y), np.array(t))"
   ]
  },
  {
   "cell_type": "markdown",
   "id": "23a2bf7d",
   "metadata": {},
   "source": [
    "위 코드의 결과는 **오차**를 출력한다. 즉 출력값이 작을수록 정답에 가깝다."
   ]
  },
  {
   "cell_type": "markdown",
   "id": "f05e5c44",
   "metadata": {},
   "source": [
    "### 2.2. 교차 엔트로피 오차"
   ]
  },
  {
   "cell_type": "markdown",
   "id": "a0dbe231",
   "metadata": {},
   "source": [
    "**교차 엔트로프 오차(Cross Entropy Error, CEE)** 는 자주 사용되는 손실 함수로 식은 다음과 같다.\n",
    "\n",
    "$E = -\\sum_{i=1}^{k} {t_k\\log_e {y_k}}$\n",
    "\n",
    "- $y_k$ : 신경망의 출력(신경망이 추정한 값)\n",
    "- $t_k$ : 정답 레이블"
   ]
  },
  {
   "cell_type": "markdown",
   "id": "ecefc75d",
   "metadata": {},
   "source": [
    "이 식을 코드로 구현하면 다음과 같다."
   ]
  },
  {
   "cell_type": "code",
   "execution_count": 7,
   "id": "610f27fb",
   "metadata": {},
   "outputs": [],
   "source": [
    "def cross_entropy_error(y, t):\n",
    "    delta = 1e-7\n",
    "    return -np.sum(t * np.log(y + delta))"
   ]
  },
  {
   "cell_type": "code",
   "execution_count": 8,
   "id": "4ef2ac92",
   "metadata": {},
   "outputs": [
    {
     "data": {
      "text/plain": [
       "0.510825457099338"
      ]
     },
     "execution_count": 8,
     "metadata": {},
     "output_type": "execute_result"
    }
   ],
   "source": [
    "t = [0, 0, 1, 0, 0, 0, 0, 0, 0, 0]\n",
    "y = [0.1, 0.02, 0.6, 0.0, 0.05, 0.1, 0.0, 0.1, 0.0, 0.0]\n",
    "cross_entropy_error(np.array(y), np.array(t))"
   ]
  },
  {
   "cell_type": "markdown",
   "id": "f477d50e",
   "metadata": {},
   "source": [
    "위 코드의 결과는 **오차**를 출력한다. 즉 출력값이 작을수록 정답에 가깝다."
   ]
  },
  {
   "cell_type": "markdown",
   "id": "34bbe5de",
   "metadata": {},
   "source": [
    "### 2.3. 미니배치 학습"
   ]
  },
  {
   "cell_type": "markdown",
   "id": "74ec8aa0",
   "metadata": {},
   "source": [
    "기계학습은 훈련 데이터에 대한 손실 함수 값을 구하고, 그 값을 최대한 줄여주는 매개변수를 찾는다. 즉 **모든 훈련 데이터의 손실 함수를 구해야한다.**\n",
    "\n",
    "모든 훈련 데이터에 대한 교차 엔트로피 오차를 구하는 식은 다음과 같다. \n",
    "\n",
    "$E = -\\frac{1}{N}\\sum_{i=1}^{n} \\sum_{i=1}^{k} {t_{nk}\\log_e {y_{nk}}}$\n",
    "\n",
    "전제적인 수식은 교차 엔트로피 오차와 동일하다.\n",
    "\n",
    "하나에 데이터에 대한 손실 함수를 N개의 데이터로 확장하여 더한다. 그리고 N으로 나눠 **정규화**를 통해 **평균 손실 함수**를 구하는 것이다."
   ]
  },
  {
   "cell_type": "markdown",
   "id": "451d10d4",
   "metadata": {},
   "source": [
    "하지만 훈련 데이터가 많은 경우 손실 함수의 합을 구하는데 오랜 시간이 걸린다. 이런 경우 데이터 일부를 추려 **전체의 근사치**로 이용한다.\n",
    "\n",
    "이처럼 훈련 데이터의 일부로 학습을 진행하는 방식을 **미니배치(mini-batch)** 라고한다."
   ]
  },
  {
   "cell_type": "markdown",
   "id": "4e750786",
   "metadata": {},
   "source": [
    "미니배치 학습을 구현하면 다음과 같다."
   ]
  },
  {
   "cell_type": "code",
   "execution_count": 11,
   "id": "259d1a60",
   "metadata": {},
   "outputs": [
    {
     "name": "stdout",
     "output_type": "stream",
     "text": [
      "(60000, 784)\n",
      "(60000, 10)\n",
      "(10, 784)\n",
      "(10, 10)\n"
     ]
    }
   ],
   "source": [
    "import sys, os\n",
    "sys.path.append(os.pardir)\n",
    "import numpy as np\n",
    "from dataset.mnist import load_mnist\n",
    "\n",
    "(x_train, t_train), (x_test, t_test) = load_mnist(normalize=True, one_hot_label=True)\n",
    "\n",
    "print(x_train.shape)\n",
    "print(t_train.shape)\n",
    "\n",
    "train_size = x_train.shape[0]\n",
    "batch_size = 10\n",
    "batch_mask = np.random.choice(train_size, batch_size)\n",
    "x_batch = x_train[batch_mask]\n",
    "t_batch = t_train[batch_mask]\n",
    "\n",
    "print(x_batch.shape)\n",
    "print(t_batch.shape)"
   ]
  },
  {
   "cell_type": "markdown",
   "id": "c700e97e",
   "metadata": {},
   "source": [
    "위 코드에서 **np.random.choice(A, B)** 는 *0이상 A 미만의 수 중에서 무작위로 B개의 수를 골라낸다.*"
   ]
  },
  {
   "cell_type": "markdown",
   "id": "e8f4335c",
   "metadata": {},
   "source": [
    "### 2.4. 배치용 교차 엔트로피 오차"
   ]
  },
  {
   "cell_type": "markdown",
   "id": "33e81179",
   "metadata": {},
   "source": [
    "미니배치 같은 배치 데이터를 지원하는 교차 엔트로피 오차는 다음과 같이 구현한다."
   ]
  },
  {
   "cell_type": "code",
   "execution_count": 1,
   "id": "fc11b582",
   "metadata": {},
   "outputs": [],
   "source": [
    "def cross_entropy_error(y, t):\n",
    "    if y.ndim == 1: # y가 1차원인 경우\n",
    "        t = t.reshape(1, t.size)\n",
    "        y = y.reshape(1, y.size)\n",
    "        \n",
    "    batch_size = y.shape[0]\n",
    "    return -np.sum(t * np.log(y + 1e-7)) / batch_size"
   ]
  },
  {
   "cell_type": "markdown",
   "id": "70f93421",
   "metadata": {},
   "source": [
    "위 코드는 다음과 같이 구현된다.\n",
    "1. reshape()로 데이터의 형상을 바꿔준다. \n",
    "2. 배치의 크기로 나눠 정규화\n",
    "3. 이미지 1장당 평균의 교차 엔트로피 오차 계산\n",
    "\n",
    "위 코드에서 y가 1차원이기 때문에 데이터 하나당 교차 엔트로피 오차를 구하는 경우다.\n",
    "- y : 신경망 출력\n",
    "- t : 정답 레이블\n",
    "\n",
    "위 코드는 정답 레이블이 one-hot 인코딩이 되어있다. one-hot 인코딩이 아니라 1,2 같은 숫자 레이블로 정답 레이블이 주어졌을 때는 다음과 같이 구현한다."
   ]
  },
  {
   "cell_type": "code",
   "execution_count": 2,
   "id": "1a0d0048",
   "metadata": {},
   "outputs": [],
   "source": [
    "def cross_entropy_error(y, t):\n",
    "    if y.ndim == 1: # y가 1차원인 경우\n",
    "        t = t.reshape(1, t.size)\n",
    "        y = y.reshape(1, y.size)\n",
    "        \n",
    "    batch_size = y.shape[0]\n",
    "    return -np.sum(np.log(y[np.arange(batch_size), t] + 1e-7)) / batch_size"
   ]
  },
  {
   "cell_type": "markdown",
   "id": "c299d871",
   "metadata": {},
   "source": [
    "위 구현에서는 **one-hot 인코딩일 때 t가 0인 원소는 교차 엔트로피 오차도 0이므로 무시해도 좋다**는 것이 핵심이다. 즉 정답에 해당하는 신경망의 출력만으로 교차 엔트로피 오차를 계산할 수 있다. \n",
    "\n",
    "**np.log(y\\[np.arange(batch_size), t\\]**는 다음과 같이 동작한다.\n",
    "1. 0부터 batch_size-1까지 배열 생성\n",
    "2. 각 데이터의 정답 레이블에 해당하는 신경망 출력 추출"
   ]
  },
  {
   "cell_type": "markdown",
   "id": "793b07c8",
   "metadata": {},
   "source": [
    "### 2.5. 손실 함수 정의 이유"
   ]
  },
  {
   "cell_type": "markdown",
   "id": "8c1a9861",
   "metadata": {},
   "source": [
    "신경망 학습에서는 최적의 매개변수를 탐색할 때 손실 함수 값을 가능한 작게 하는 매개변수를 찾는다. 이때 매개변수의 미분을 계산하고 그 미분 값을 단서로 매개변수 값을 갱신하는 과정을 반복한다.\n",
    "\n",
    "**신경망을 학습할 때 정확도를 지표로 사용하면 매개변수의 미분이 대부분에서 0이 되기 때문에 매개변수를 갱신할 수 없다.**"
   ]
  },
  {
   "cell_type": "markdown",
   "id": "8d297752",
   "metadata": {},
   "source": [
    "## 3. 수치 미분"
   ]
  },
  {
   "cell_type": "markdown",
   "id": "cad7da12",
   "metadata": {},
   "source": [
    "경사법에서는 기울기 값을 기준으로 매개변수를 조정한다. 이 때 기울기를 구하기 위해 미분을 사용한다."
   ]
  },
  {
   "cell_type": "markdown",
   "id": "564a5317",
   "metadata": {},
   "source": [
    "### 3.1. 미분"
   ]
  },
  {
   "cell_type": "markdown",
   "id": "2bf9e56b",
   "metadata": {},
   "source": [
    "미분은 한순간의 변화량을 표시한 것으로 수식은 다음과 같다.\n",
    "\n",
    "$$\\frac{df(x)}{dx} = \\lim_{h \\to \\infty} \\frac{f(x+h)-f(x)}{h}$$"
   ]
  },
  {
   "cell_type": "markdown",
   "id": "4996d7cd",
   "metadata": {},
   "source": [
    "이와 같이 $h$를 통해 값을 무한한게 나누어야한다. 하지만 코드상에서 1e-50부터는 0.0으로 표기된다. 이로인해 **반올림 오차**가 발생한다. 이는 다음과 같은 방식으로 개선할 수 있다.\n",
    "\n",
    "1. h 값을 $10^-4$로 설정(일반적으로 좋음)\n",
    "2. 함수 f의 차분(임의의 두 점에서의 함수 값 차이)을 x 중심으로 계산"
   ]
  },
  {
   "cell_type": "markdown",
   "id": "7bd6e43e",
   "metadata": {},
   "source": [
    "이러한 두 문제점을 개선하여 수치미분을 수식으로 구현하면 다음과 같다."
   ]
  },
  {
   "cell_type": "code",
   "execution_count": 5,
   "id": "99bac944",
   "metadata": {},
   "outputs": [],
   "source": [
    "def numericla_diff(f, x):\n",
    "    h = 1e-4\n",
    "    return (f(x+h) - f(x-h)) / (2*h)"
   ]
  },
  {
   "cell_type": "markdown",
   "id": "a0f6149b",
   "metadata": {},
   "source": [
    "### 3.2. 편미분"
   ]
  },
  {
   "cell_type": "markdown",
   "id": "3b099937",
   "metadata": {},
   "source": [
    "변수가 여러개인 함수에 대한 미분을 **편미분** 이라고한다. 다음수식을 편미분하는 코드는 아래와 같다.\n",
    "\n",
    "$f(x_0, x_1) = x_0^2 + x_1^2$"
   ]
  },
  {
   "cell_type": "code",
   "execution_count": 10,
   "id": "e2e957ab",
   "metadata": {},
   "outputs": [],
   "source": [
    "def function(x):\n",
    "    return x[0]**2 + x[1]**2 # np.sum(x**2)"
   ]
  },
  {
   "cell_type": "markdown",
   "id": "4ebb16bb",
   "metadata": {},
   "source": [
    "## 4. 기울기"
   ]
  },
  {
   "cell_type": "markdown",
   "id": "37c8da19",
   "metadata": {},
   "source": [
    "**기울기(gradient)**는 모든 변수의 편미분을 벡터로 정리한 것을 의미한다. 기울기를 코드로 구현하면 다음과 같다."
   ]
  },
  {
   "cell_type": "code",
   "execution_count": 11,
   "id": "f96d65eb",
   "metadata": {},
   "outputs": [],
   "source": [
    "def numerical_gradient(f, x):\n",
    "    h = 1e-4\n",
    "    grad = np.zeros_like(x) # x와 형상이 같은 배열\n",
    "    \n",
    "    for idx in range(x.size):\n",
    "        tmp_val = x[idx]\n",
    "        \n",
    "        # f(x+h) 계산\n",
    "        x[idx] = tmp_val + h\n",
    "        fxh1 = f(x)\n",
    "        \n",
    "        # f(x-h) 계산\n",
    "        x[idx] = tmp_val - h\n",
    "        fxh2 = f(x)\n",
    "\n",
    "        grad[idx] = (fxh1 - fxh2) / (2*h)\n",
    "        x[idx] = tmp_val # 값 복원\n",
    "        \n",
    "    return grad"
   ]
  },
  {
   "cell_type": "code",
   "execution_count": 13,
   "id": "c9f7491f",
   "metadata": {},
   "outputs": [
    {
     "name": "stdout",
     "output_type": "stream",
     "text": [
      "[6. 8.]\n",
      "[0. 4.]\n",
      "[6. 0.]\n"
     ]
    }
   ],
   "source": [
    "import numpy as np\n",
    "\n",
    "print(numerical_gradient(function, np.array([3.0, 4.0])))\n",
    "print(numerical_gradient(function, np.array([0.0, 2.0])))\n",
    "print(numerical_gradient(function, np.array([3.0, 0.0])))"
   ]
  },
  {
   "cell_type": "markdown",
   "id": "d1032344",
   "metadata": {},
   "source": [
    "여기서 기울기가 의미하는 것은 각 지점에서 낮아지는 방향을 의미한다. 즉 **기울기가 가리키는 쪽은 각 장소에서 함수의 출력 값을 가장 크게 줄이는 방향**이다."
   ]
  },
  {
   "cell_type": "markdown",
   "id": "b7973785",
   "metadata": {},
   "source": [
    "### 4.1. 경사법"
   ]
  },
  {
   "cell_type": "markdown",
   "id": "cdfc9946",
   "metadata": {},
   "source": [
    "**경사법**은 기울기를 이용하여 함수의 최솟값을 찾는 방법이다. 여기서 주의할 점은 함수 값을 낮추기 위한 지표가 기울기라는 것이다. **기울기가 가리키는 곳이 최솟값이 아닐 수 있다.** 크게 줄이는 것과 최솟값은 다른 개념이다. 하지만 기울기의 방향으로 가야 함수 값을 줄일 수 있다. \n",
    "\n",
    "이러한 개념을 사용하는 방식이 **경사법**이다. 경사법은 다음과 같이 진행된다.\n",
    "\n",
    "1. 현 위치에서 기울어진 방향으로 일정 거리만큼 이동\n",
    "2. 이동한 곳에서 기울기 계산\n",
    "3. 반복\n",
    "\n",
    "경사법을 수식으로 나타내면 다음과 같다. \n",
    "\n",
    "$x_n = x_n - \\eta\\frac{\\theta f}{\\theta x_n}$\n",
    "\n",
    "위 식에서 $\\eta$는 갱신하는 값을 의미한다. 이를 신경망 학습에서는 **학습률**이라고 한다. 학습률은 매개변수 값을 얼마나 갱신하는 가를 정한다. 경사 하강법은 다음과 같은 코드로 구현된다."
   ]
  },
  {
   "cell_type": "code",
   "execution_count": 15,
   "id": "2b2bedeb",
   "metadata": {},
   "outputs": [],
   "source": [
    "def gradient_descent(f, init_x, lr=0.01, step_num=100):\n",
    "    x = init_x\n",
    "    \n",
    "    for i in range(step_num):\n",
    "        grad = numerical_gradient(f, x)\n",
    "        x -= lr*grad\n",
    "    return x"
   ]
  },
  {
   "cell_type": "markdown",
   "id": "251a83b5",
   "metadata": {},
   "source": [
    "위 코드에서 사용하는 파라미터는 다음과 같다.\n",
    "- **f** : 최적화하려는 함수\n",
    "- **init_x** : 초깃값\n",
    "- **lr** : 학습률(learning rate)\n",
    "- **step_num** : 반복 횟수\n",
    "- **numerical_gradient(f, x)** : 기울기를 구하는 함수\n",
    "\n",
    "코드를 실행하면 다음과 같다."
   ]
  },
  {
   "cell_type": "code",
   "execution_count": 26,
   "id": "ac265802",
   "metadata": {},
   "outputs": [
    {
     "name": "stdout",
     "output_type": "stream",
     "text": [
      "[-6.11110793e-10  8.14814391e-10]\n"
     ]
    }
   ],
   "source": [
    "print(gradient_descent(function, init_x=np.array([-3.0, 4.0]), lr=0.1, step_num=100))"
   ]
  },
  {
   "cell_type": "markdown",
   "id": "fb720b05",
   "metadata": {},
   "source": [
    "초깃값을 (-3.0, 4.0)으로 설정한 후 경사법을 사용하여 최솟값을 탐색한다. 최종 결과는 (0,0)에 근접한 값이 나온다. 여기서 학습률인 lr을 미리설정해주는 과정이 중요하다. 다음과 같이 학습률이 너무 크거나 작으면 학습이 제대로 이루어지지 않는다."
   ]
  },
  {
   "cell_type": "code",
   "execution_count": 31,
   "id": "a9f5f4a1",
   "metadata": {},
   "outputs": [
    {
     "name": "stdout",
     "output_type": "stream",
     "text": [
      "lr : 10.0 : 크면 발산\n",
      "[-2.58983747e+13 -1.29524862e+12]\n",
      "lr : 1e-4 : 작으면 거의 갱신 안함\n",
      "[-2.94059014  3.92078685]\n"
     ]
    }
   ],
   "source": [
    "print(\"lr : 10.0 : 크면 발산\")\n",
    "print(gradient_descent(function, init_x=np.array([-3.0, 4.0]), lr=10.0, step_num=100))\n",
    "print(\"lr : 1e-4 : 작으면 거의 갱신 안함\")\n",
    "print(gradient_descent(function, init_x=np.array([-3.0, 4.0]), lr=1e-4, step_num=100))"
   ]
  },
  {
   "cell_type": "markdown",
   "id": "f7448587",
   "metadata": {},
   "source": [
    "학습률과 같이 사람이 직접 설정해야 하는 매개변수를 **하이퍼파라미터**라고 한다."
   ]
  },
  {
   "cell_type": "markdown",
   "id": "e5d5d3bc",
   "metadata": {},
   "source": [
    "### 4.2. 신경망에서 기울기"
   ]
  },
  {
   "cell_type": "markdown",
   "id": "ade7040e",
   "metadata": {},
   "source": [
    "신경망 학습에서도 기울기를 구해야한다. 여기서 기울기는 가중치 매개변수에 대한 손실 함수의 기울기다. 코드로 구현하면 다음과 같다."
   ]
  },
  {
   "cell_type": "code",
   "execution_count": 34,
   "id": "e293c821",
   "metadata": {},
   "outputs": [],
   "source": [
    "import sys, os\n",
    "sys.path.append(os.pardir) \n",
    "import numpy as np\n",
    "from common.functions import softmax, cross_entropy_error\n",
    "from common.gradient import numerical_gradient\n",
    "\n",
    "\n",
    "class simpleNet:\n",
    "    def __init__(self):\n",
    "        self.W = np.random.randn(2,3) # 정규분포로 초기화\n",
    "\n",
    "    def predict(self, x):\n",
    "        return np.dot(x, self.W)\n",
    "\n",
    "    def loss(self, x, t):\n",
    "        z = self.predict(x)\n",
    "        y = softmax(z)\n",
    "        loss = cross_entropy_error(y, t)\n",
    "\n",
    "        return loss"
   ]
  },
  {
   "cell_type": "markdown",
   "id": "00387835",
   "metadata": {},
   "source": [
    "위 코드의 메서드는 다음과 같다.\n",
    "\n",
    "- **predict(x)** : 예측 수행\n",
    "- **loss(x, t)** : 손실 함수 값 계산\n",
    "\n",
    "메서드에서 사용하는 파라미터는 다음과 같다.\n",
    "\n",
    "- **x** : 입력 데이터\n",
    "- **t** : 정답 레이블"
   ]
  },
  {
   "cell_type": "code",
   "execution_count": 45,
   "id": "7c3c04af",
   "metadata": {},
   "outputs": [
    {
     "name": "stdout",
     "output_type": "stream",
     "text": [
      "가중치 매개변수\n",
      "[[ 2.45312775 -0.39127199 -1.76291852]\n",
      " [-1.10650038  0.63588436  1.17272337]]\n",
      " \n",
      "predict()\n",
      "[ 0.47602631  0.33753273 -0.00230008]\n",
      " \n",
      "최댓값 인덱스\n",
      "0\n",
      " \n",
      "loss()\n",
      "1.3908049436920886\n",
      " \n",
      "기울기\n",
      "[[ 0.24091647  0.20975847 -0.45067494]\n",
      " [ 0.36137471  0.3146377  -0.67601241]]\n"
     ]
    }
   ],
   "source": [
    "net = simpleNet()\n",
    "x = np.array([0.6, 0.9])\n",
    "t = np.array([0, 0, 1])\n",
    "def f(W):\n",
    "    return net.loss(x, t)\n",
    "# 람다 깁버을 사용한 구현\n",
    "# f = lambda w: net.loss(x, t)\n",
    "\n",
    "print(\"가중치 매개변수\")\n",
    "print(net.W)\n",
    "print(\" \")\n",
    "print(\"predict()\")\n",
    "print(net.predict(x))\n",
    "print(\" \")\n",
    "print(\"최댓값 인덱스\")\n",
    "print(np.argmax(net.predict(x)))\n",
    "print(\" \")\n",
    "print(\"loss()\")\n",
    "print(net.loss(x, t))\n",
    "print(\" \")\n",
    "print(\"기울기\")\n",
    "print(numerical_gradient(f, net.W))"
   ]
  },
  {
   "cell_type": "markdown",
   "id": "1891aac3",
   "metadata": {},
   "source": [
    "## 5. 학습 알고리즈 구현"
   ]
  },
  {
   "cell_type": "markdown",
   "id": "1c6a107b",
   "metadata": {},
   "source": [
    "다음 절차를 거치는 학습 알고리즘을 구현한다.\n",
    "\n",
    "1. 미니배치\n",
    "- 훈런 데이터 중 일부를 무작위로 가져온다.\n",
    "- 선별된 데이터를 미니배치라고 하며, 미니배치의 손실 함수 값을 줄이는 것이 목표\n",
    "\n",
    "2. 기울기 산출\n",
    "- 미니배치의 손실 함수 값을 줄이기 위해 각 가중치 매개변수의 기울기 산출\n",
    "- 기울기는 손실 함수 값을 가장 작게 하는 방향 제시\n",
    "\n",
    "3. 매개변수 갱신\n",
    "- 가중치 매개변수를 기울기 방향으로 조금 갱신\n",
    "\n",
    "4. 반복"
   ]
  },
  {
   "cell_type": "markdown",
   "id": "29901f7a",
   "metadata": {},
   "source": [
    "### 5.1. 2층 신경망 클래스 구현"
   ]
  },
  {
   "cell_type": "code",
   "execution_count": 105,
   "id": "aa412241",
   "metadata": {},
   "outputs": [],
   "source": [
    "import sys, os\n",
    "sys.path.append(os.pardir)  # 부모 디렉터리의 파일을 가져올 수 있도록 설정\n",
    "from common.functions import *\n",
    "from common.gradient import numerical_gradient\n",
    "\n",
    "\n",
    "class TwoLayerNet:\n",
    "    \n",
    "    def __init__(self, input_size, hidden_size, output_size, weight_init_std=0.01): # 가중치 초기화\n",
    "        # (입력층 뉴런 수, 은닉층 뉴런 수, 출력층 뉴런 수)\n",
    "        self.params = {} # 매개변수를 보관하는 인스턴스 변수\n",
    "        self.params['W1'] = weight_init_std * np.random.randn(input_size, hidden_size)\n",
    "        self.params['b1'] = np.zeros(hidden_size)\n",
    "        self.params['W2'] = weight_init_std * np.random.randn(hidden_size, output_size)\n",
    "        self.params['b2'] = np.zeros(output_size)\n",
    "\n",
    "    def predict(self, x): # 예측(추론) 수행\n",
    "        # x : 이미지 데이터\n",
    "        W1, W2 = self.params['W1'], self.params['W2']\n",
    "        b1, b2 = self.params['b1'], self.params['b2']\n",
    "    \n",
    "        a1 = np.dot(x, W1) + b1\n",
    "        z1 = sigmoid(a1)\n",
    "        a2 = np.dot(z1, W2) + b2\n",
    "        y = softmax(a2)\n",
    "        \n",
    "        return y\n",
    "        \n",
    "    def loss(self, x, t): # 손실 함수 값 산출\n",
    "        # x : 입력 데이터, t : 정답 레이블\n",
    "        y = self.predict(x)\n",
    "        \n",
    "        return cross_entropy_error(y, t)\n",
    "    \n",
    "    def accuracy(self, x, t): # 정확도 산출\n",
    "        y = self.predict(x)\n",
    "        y = np.argmax(y, axis=1)\n",
    "        t = np.argmax(t, axis=1)\n",
    "        \n",
    "        accuracy = np.sum(y == t) / float(x.shape[0])\n",
    "        return accuracy\n",
    "        \n",
    "    def numerical_gradient(self, x, t): # 가중치 매개변수 기울기 산출\n",
    "        # x : 입력 데이터, t : 정답 레이블\n",
    "        loss_W = lambda W: self.loss(x, t)\n",
    "        \n",
    "        grads = {} # 기울기를 보관하는 딕셔너리 변수\n",
    "        grads['W1'] = numerical_gradient(loss_W, self.params['W1'])\n",
    "        grads['b1'] = numerical_gradient(loss_W, self.params['b1'])\n",
    "        grads['W2'] = numerical_gradient(loss_W, self.params['W2'])\n",
    "        grads['b2'] = numerical_gradient(loss_W, self.params['b2'])\n",
    "        \n",
    "        return grads\n",
    "    \n",
    "    # 해당 부분은 다음 내용에서 다룸 \n",
    "    # 학습 시간을 줄이기 위해서 사용\n",
    "    def gradient(self, x, t):\n",
    "        W1, W2 = self.params['W1'], self.params['W2']\n",
    "        b1, b2 = self.params['b1'], self.params['b2']\n",
    "        grads = {}\n",
    "        \n",
    "        batch_num = x.shape[0]\n",
    "        \n",
    "        # forward\n",
    "        a1 = np.dot(x, W1) + b1\n",
    "        z1 = sigmoid(a1)\n",
    "        a2 = np.dot(z1, W2) + b2\n",
    "        y = softmax(a2)\n",
    "        \n",
    "        # backward\n",
    "        dy = (y - t) / batch_num\n",
    "        grads['W2'] = np.dot(z1.T, dy)\n",
    "        grads['b2'] = np.sum(dy, axis=0)\n",
    "        \n",
    "        da1 = np.dot(dy, W2.T)\n",
    "        dz1 = sigmoid_grad(a1) * da1\n",
    "        grads['W1'] = np.dot(x.T, dz1)\n",
    "        grads['b1'] = np.sum(dz1, axis=0)\n",
    "\n",
    "        return grads"
   ]
  },
  {
   "cell_type": "code",
   "execution_count": 74,
   "id": "bc296c46",
   "metadata": {},
   "outputs": [
    {
     "name": "stdout",
     "output_type": "stream",
     "text": [
      "W1 : (784, 100)\n",
      "b1 : (100,)\n",
      "W2 : (100, 10)\n",
      "b2 : (10,)\n"
     ]
    }
   ],
   "source": [
    "net = TwoLayerNet(input_size=784, hidden_size=100, output_size=10)\n",
    "print(\"W1 :\", net.params['W1'].shape)\n",
    "print(\"b1 :\", net.params['b1'].shape)\n",
    "print(\"W2 :\", net.params['W2'].shape)\n",
    "print(\"b2 :\", net.params['b2'].shape)"
   ]
  },
  {
   "cell_type": "markdown",
   "id": "c1f90d45",
   "metadata": {},
   "source": [
    "### 5.2. 미니배치 학습 구현"
   ]
  },
  {
   "cell_type": "code",
   "execution_count": 130,
   "id": "3ceda510",
   "metadata": {},
   "outputs": [
    {
     "name": "stdout",
     "output_type": "stream",
     "text": [
      "10000번 반복\n"
     ]
    },
    {
     "data": {
      "image/png": "[encoded data removed]",
      "text/plain": [
       "<Figure size 432x288 with 1 Axes>"
      ]
     },
     "metadata": {
      "needs_background": "light"
     },
     "output_type": "display_data"
    },
    {
     "name": "stdout",
     "output_type": "stream",
     "text": [
      "1000번 반복\n"
     ]
    },
    {
     "data": {
      "image/png": "[encoded data removed]",
      "text/plain": [
       "<Figure size 432x288 with 1 Axes>"
      ]
     },
     "metadata": {
      "needs_background": "light"
     },
     "output_type": "display_data"
    }
   ],
   "source": [
    "import sys, os\n",
    "sys.path.append(os.pardir)  # 부모 디렉터리의 파일을 가져올 수 있도록 설정\n",
    "import numpy as np\n",
    "import matplotlib.pyplot as plt\n",
    "from dataset.mnist import load_mnist\n",
    "    \n",
    "# 데이터 읽기\n",
    "(x_train, t_train), (x_test, t_test) = load_mnist(normalize=True, one_hot_label=True)\n",
    "network = TwoLayerNet(input_size=784, hidden_size=50, output_size=10)\n",
    "\n",
    "# 하이퍼파라미터\n",
    "iters_num = 10000  # 반복 횟수 설정\n",
    "train_size = x_train.shape[0] # 훈련 데이터 크기\n",
    "batch_size = 100   # 미니배치 크기\n",
    "learning_rate = 0.1 # 학습률 설정\n",
    "\n",
    "train_loss_list = [] \n",
    "\n",
    "for i in range(iters_num):\n",
    "    # 미니배치 획득\n",
    "    batch_mask = np.random.choice(train_size, batch_size)\n",
    "    x_batch = x_train[batch_mask]\n",
    "    t_batch = t_train[batch_mask]\n",
    "    \n",
    "    # 기울기 계산\n",
    "    # grad = network.numerical_gradient(x_batch, t_batch)\n",
    "    grad = network.gradient(x_batch, t_batch)\n",
    "        \n",
    "    # 매개변수 갱신\n",
    "    for key in ('W1', 'b1', 'W2', 'b2'):\n",
    "        network.params[key] -= learning_rate * grad[key]\n",
    "    \n",
    "    # 학습 경과 기록\n",
    "    loss = network.loss(x_batch, t_batch)\n",
    "    train_loss_list.append(loss)       \n",
    "        \n",
    "# 그래프 그리기\n",
    "print(\"10000번 반복\")\n",
    "x = np.arange(iters_num)\n",
    "plt.plot(x, train_loss_list)\n",
    "plt.xlabel(\"iteraton\")\n",
    "plt.ylabel(\"loss\")\n",
    "plt.ylim(0, 3.0)\n",
    "plt.show()\n",
    "\n",
    "# ------------------------------------------------------------------------------\n",
    "\n",
    "(x_train, t_train), (x_test, t_test) = load_mnist(normalize=True, one_hot_label=True)\n",
    "network = TwoLayerNet(input_size=784, hidden_size=50, output_size=10)\n",
    "\n",
    "iters_num = 1000  # 반복 횟수 설정\n",
    "train_size = x_train.shape[0] # 훈련 데이터 크기\n",
    "batch_size = 100   # 미니배치 크기\n",
    "learning_rate = 0.1 # 학습률 설정\n",
    "\n",
    "train_loss_list = [] \n",
    "\n",
    "for i in range(iters_num):\n",
    "    # 미니배치 획득\n",
    "    batch_mask = np.random.choice(train_size, batch_size)\n",
    "    x_batch = x_train[batch_mask]\n",
    "    t_batch = t_train[batch_mask]\n",
    "    \n",
    "    # 기울기 계산\n",
    "    # grad = network.numerical_gradient(x_batch, t_batch)\n",
    "    grad = network.gradient(x_batch, t_batch)\n",
    "        \n",
    "    # 매개변수 갱신\n",
    "    for key in ('W1', 'b1', 'W2', 'b2'):\n",
    "        network.params[key] -= learning_rate * grad[key]\n",
    "    \n",
    "    # 학습 경과 기록\n",
    "    loss = network.loss(x_batch, t_batch)\n",
    "    train_loss_list.append(loss)       \n",
    "        \n",
    "# 그래프 그리기\n",
    "print(\"1000번 반복\")\n",
    "x = np.arange(iters_num)\n",
    "plt.plot(x, train_loss_list)\n",
    "plt.xlabel(\"iteraton\")\n",
    "plt.ylabel(\"loss\")\n",
    "plt.ylim(0, 3.0)\n",
    "plt.show()"
   ]
  },
  {
   "cell_type": "markdown",
   "id": "45c6827f",
   "metadata": {},
   "source": [
    "위의 그래프와 같이 반복 횟수가 많아지면 손실 함수 값이 빠르게 작아진다."
   ]
  },
  {
   "cell_type": "markdown",
   "id": "02a75e7b",
   "metadata": {},
   "source": [
    "### 5.3. 시험 데이터로 평가"
   ]
  },
  {
   "cell_type": "code",
   "execution_count": 107,
   "id": "af818b8a",
   "metadata": {},
   "outputs": [
    {
     "name": "stdout",
     "output_type": "stream",
     "text": [
      "train acc, test acc | 0.09871666666666666, 0.098\n",
      "train acc, test acc | 0.8042333333333334, 0.8067\n",
      "train acc, test acc | 0.87665, 0.88\n",
      "train acc, test acc | 0.89915, 0.9012\n",
      "train acc, test acc | 0.90685, 0.9104\n",
      "train acc, test acc | 0.9146, 0.9159\n",
      "train acc, test acc | 0.9196833333333333, 0.9224\n",
      "train acc, test acc | 0.9237666666666666, 0.9262\n",
      "train acc, test acc | 0.9282666666666667, 0.9308\n",
      "train acc, test acc | 0.93155, 0.9338\n",
      "train acc, test acc | 0.93405, 0.9347\n",
      "train acc, test acc | 0.9372, 0.9363\n",
      "train acc, test acc | 0.9396333333333333, 0.9398\n",
      "train acc, test acc | 0.9419333333333333, 0.9429\n",
      "train acc, test acc | 0.94445, 0.9432\n",
      "train acc, test acc | 0.9463833333333334, 0.9444\n",
      "train acc, test acc | 0.9472166666666667, 0.9467\n"
     ]
    },
    {
     "data": {
      "image/png": "[encoded data removed]",
      "text/plain": [
       "<Figure size 432x288 with 1 Axes>"
      ]
     },
     "metadata": {
      "needs_background": "light"
     },
     "output_type": "display_data"
    }
   ],
   "source": [
    "import sys, os\n",
    "sys.path.append(os.pardir)  # 부모 디렉터리의 파일을 가져올 수 있도록 설정\n",
    "import numpy as np\n",
    "import matplotlib.pyplot as plt\n",
    "from dataset.mnist import load_mnist\n",
    "    \n",
    "# 데이터 읽기\n",
    "(x_train, t_train), (x_test, t_test) = load_mnist(normalize=True, one_hot_label=True)\n",
    "network = TwoLayerNet(input_size=784, hidden_size=50, output_size=10)\n",
    "\n",
    "# 하이퍼파라미터\n",
    "iters_num = 10000  # 반복 횟수 설정\n",
    "train_size = x_train.shape[0] # 훈련 데이터 크기\n",
    "batch_size = 100   # 미니배치 크기\n",
    "learning_rate = 0.1 # 학습률 설정\n",
    "\n",
    "train_loss_list = [] \n",
    "train_acc_list = []\n",
    "test_acc_list = []\n",
    "\n",
    "# 1에폭 당 반복 수\n",
    "iter_per_epoch = max(train_size / batch_size, 1)\n",
    "\n",
    "for i in range(iters_num):\n",
    "    # 미니배치 획득\n",
    "    batch_mask = np.random.choice(train_size, batch_size)\n",
    "    x_batch = x_train[batch_mask]\n",
    "    t_batch = t_train[batch_mask]\n",
    "    \n",
    "    # 기울기 계산\n",
    "    # grad = network.numerical_gradient(x_batch, t_batch)\n",
    "    grad = network.gradient(x_batch, t_batch)\n",
    "        \n",
    "    # 매개변수 갱신\n",
    "    for key in ('W1', 'b1', 'W2', 'b2'):\n",
    "        network.params[key] -= learning_rate * grad[key]\n",
    "    \n",
    "    # 학습 경과 기록\n",
    "    loss = network.loss(x_batch, t_batch)\n",
    "    train_loss_list.append(loss)\n",
    "    \n",
    "    # 1에폭당 정확도 계산\n",
    "    if i % iter_per_epoch == 0:\n",
    "        train_acc = network.accuracy(x_train, t_train)\n",
    "        test_acc = network.accuracy(x_test, t_test)\n",
    "        train_acc_list.append(train_acc)\n",
    "        test_acc_list.append(test_acc)\n",
    "        print(\"train acc, test acc | \" + str(train_acc) + \", \" + str(test_acc))   \n",
    "        \n",
    "        \n",
    "# 그래프 그리기\n",
    "markers = {'train': 'o', 'test': 's'}\n",
    "x = np.arange(len(train_acc_list))\n",
    "plt.plot(x, train_acc_list, label='train acc')\n",
    "plt.plot(x, test_acc_list, label='test acc', linestyle='--')\n",
    "plt.xlabel(\"epochs\")\n",
    "plt.ylabel(\"accuracy\")\n",
    "plt.ylim(0, 1.0)\n",
    "plt.legend(loc='lower right')\n",
    "plt.show()"
   ]
  },
  {
   "cell_type": "markdown",
   "id": "d6887323",
   "metadata": {},
   "source": [
    "**에폭**은 학습에서 훈련 데이터를 모두 소진했을 때의 횟수에 해당한다. 즉 10000개의 데이터를 100개의 미니배치로 학습할 경우 경사 하강법을 100회 반복하면 모든 훈련 데이터를 소진한 상태가 되어 100회가 1에폭이 된다."
   ]
  }
 ],
 "metadata": {
  "kernelspec": {
   "display_name": "Python 3",
   "language": "python",
   "name": "python3"
  },
  "language_info": {
   "codemirror_mode": {
    "name": "ipython",
    "version": 3
   },
   "file_extension": ".py",
   "mimetype": "text/x-python",
   "name": "python",
   "nbconvert_exporter": "python",
   "pygments_lexer": "ipython3",
   "version": "3.8.8"
  }
 },
 "nbformat": 4,
 "nbformat_minor": 5
}

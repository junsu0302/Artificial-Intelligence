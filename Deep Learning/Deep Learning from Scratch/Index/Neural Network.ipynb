{
 "cells": [
  {
   "cell_type": "markdown",
   "id": "aa46ef42",
   "metadata": {},
   "source": [
    "# 신경망"
   ]
  },
  {
   "cell_type": "markdown",
   "id": "01c0950b",
   "metadata": {},
   "source": [
    "이론상 다층 퍼셉트론으로 복잡한 함수를 표현할 수 있다. 하지만 가중치를 설정하는 작업을 수동으로 변경해야한다.\n",
    "\n",
    "**신경망**을 통해 **가중치 매개변수**의 적절한 값을 데이터로부터 **자동으로 학습**하는 능력을 얻을 수 있다."
   ]
  },
  {
   "cell_type": "markdown",
   "id": "767e981d",
   "metadata": {},
   "source": [
    "## 1. 기본 신경망"
   ]
  },
  {
   "cell_type": "markdown",
   "id": "d2f2cf9f",
   "metadata": {},
   "source": [
    "신경망은 `입력층-은닉층-출력층`으로 구성된다. 입력층부터 0층으로 설정한다. 입력층은 가중치를 갖지 않기 때문에 0층으로 표시한다"
   ]
  },
  {
   "cell_type": "markdown",
   "id": "9132d013",
   "metadata": {},
   "source": [
    "## 2. 활성화 함수"
   ]
  },
  {
   "cell_type": "markdown",
   "id": "7777884b",
   "metadata": {},
   "source": [
    "활성화 함수는 입력 신호의 총합을 출력 신호로 변경하는 함수이다. 즉 입력 신호의 총합이 활성화를 일으키는가를 정하는 역할을 한다."
   ]
  },
  {
   "cell_type": "markdown",
   "id": "380bf7f0",
   "metadata": {},
   "source": [
    "### 2.1. 계단 함수"
   ]
  },
  {
   "cell_type": "markdown",
   "id": "1930956f",
   "metadata": {},
   "source": [
    "**계단 함수**는 임계값을 경계로 출력이 바뀌는 함수로 다음과 같이 구현된다."
   ]
  },
  {
   "cell_type": "code",
   "execution_count": 1,
   "id": "1ad54473",
   "metadata": {},
   "outputs": [],
   "source": [
    "def step_function(x):\n",
    "  if x>0:\n",
    "    return 1\n",
    "  else:\n",
    "    return 0"
   ]
  },
  {
   "cell_type": "markdown",
   "id": "83d4b07c",
   "metadata": {},
   "source": [
    "이 코드는 인수 x로 실수만 받아들인다. 즉 배열 인수는 넣을 수 없다. 배열 또한 자원 가능하게 numpy를 사용하면 다음과 같이 구현된다."
   ]
  },
  {
   "cell_type": "code",
   "execution_count": 17,
   "id": "c06ab31a",
   "metadata": {},
   "outputs": [],
   "source": [
    "import numpy as np\n",
    "\n",
    "def step_function(x):\n",
    "  y = x > 0\n",
    "  return y.astype(int) # True/False -> 1/0\n",
    "                           # 즉 boot 타입을 int 타입으로 바꿔줌"
   ]
  },
  {
   "cell_type": "code",
   "execution_count": 18,
   "id": "1f4cb687",
   "metadata": {},
   "outputs": [
    {
     "data": {
      "text/plain": [
       "array([False,  True,  True])"
      ]
     },
     "execution_count": 18,
     "metadata": {},
     "output_type": "execute_result"
    }
   ],
   "source": [
    "x = np.array([-1.0, 1.0, 2.0])\n",
    "y = x > 0\n",
    "y"
   ]
  },
  {
   "cell_type": "markdown",
   "id": "67938fa7",
   "metadata": {},
   "source": [
    "계단 함수를 그래프로 그려보면 다음과 같다."
   ]
  },
  {
   "cell_type": "code",
   "execution_count": 19,
   "id": "7fe48366",
   "metadata": {},
   "outputs": [
    {
     "data": {
      "image/png": "[encoded data removed]",
      "text/plain": [
       "<Figure size 432x288 with 1 Axes>"
      ]
     },
     "metadata": {
      "needs_background": "light"
     },
     "output_type": "display_data"
    }
   ],
   "source": [
    "import numpy as np\n",
    "import matplotlib.pylab as plt\n",
    "\n",
    "def step_function(x):\n",
    "    return np.array(x > 0, dtype=int)\n",
    "\n",
    "x = np.arange(-5.0, 5.0, 0.1)\n",
    "y = step_function(x)\n",
    "plt.plot(x, y)\n",
    "plt.ylim(-0.1, 1.1)\n",
    "plt.show()"
   ]
  },
  {
   "cell_type": "markdown",
   "id": "7d53a7b0",
   "metadata": {},
   "source": [
    "### 2.2. 시그모이드 함수"
   ]
  },
  {
   "cell_type": "markdown",
   "id": "cc14c35d",
   "metadata": {},
   "source": [
    "시그모이드 함수의 수식은 다음과 같다. \n",
    "\n",
    "$h(x) = \\frac{1}{1+e^{-x}}$"
   ]
  },
  {
   "cell_type": "markdown",
   "id": "b38036e0",
   "metadata": {},
   "source": [
    "시그모이드 함수를 구현하면 다음과 같다."
   ]
  },
  {
   "cell_type": "code",
   "execution_count": 20,
   "id": "0d599ed9",
   "metadata": {},
   "outputs": [],
   "source": [
    "import numpy as np\n",
    "\n",
    "def sigmoid(x):\n",
    "    return 1 / (1 + np.exp(-x))"
   ]
  },
  {
   "cell_type": "code",
   "execution_count": 21,
   "id": "0afeebe4",
   "metadata": {},
   "outputs": [
    {
     "data": {
      "text/plain": [
       "array([0.26894142, 0.73105858, 0.88079708])"
      ]
     },
     "execution_count": 21,
     "metadata": {},
     "output_type": "execute_result"
    }
   ],
   "source": [
    "x = np.array([-1.0, 1.0, 2.0])\n",
    "sigmoid(x)"
   ]
  },
  {
   "cell_type": "markdown",
   "id": "a95f7192",
   "metadata": {},
   "source": [
    "시그모이드 함수를 그래프로 그려보면 다음과 같다."
   ]
  },
  {
   "cell_type": "code",
   "execution_count": 75,
   "id": "5c741b26",
   "metadata": {},
   "outputs": [
    {
     "data": {
      "image/png": "[encoded data removed]",
      "text/plain": [
       "<Figure size 432x288 with 1 Axes>"
      ]
     },
     "metadata": {
      "needs_background": "light"
     },
     "output_type": "display_data"
    }
   ],
   "source": [
    "import numpy as np\n",
    "import matplotlib.pylab as plt\n",
    "\n",
    "\n",
    "def sigmoid(x):\n",
    "    return 1 / (1 + np.exp(-x))    \n",
    "\n",
    "X = np.arange(-5.0, 5.0, 0.1)\n",
    "Y = sigmoid(X)\n",
    "plt.plot(X, Y)\n",
    "plt.ylim(-0.1, 1.1)\n",
    "plt.show()"
   ]
  },
  {
   "cell_type": "markdown",
   "id": "01cb7852",
   "metadata": {},
   "source": [
    "### 2.3. ReLU 함수"
   ]
  },
  {
   "cell_type": "markdown",
   "id": "332537c0",
   "metadata": {},
   "source": [
    "**ReLU 함수**는 입력이 0을 넘으면 그 입력을 그대로 출력하고, 0 이하면 0을 출력하는 함수다. \n",
    "\n",
    "함수를 구현하면 다음과 같다."
   ]
  },
  {
   "cell_type": "code",
   "execution_count": 32,
   "id": "b41193d7",
   "metadata": {},
   "outputs": [],
   "source": [
    "import numpy as np\n",
    "\n",
    "def relu(x):\n",
    "    return np.maximum(0, x)"
   ]
  },
  {
   "cell_type": "code",
   "execution_count": 34,
   "id": "4fc5f667",
   "metadata": {},
   "outputs": [
    {
     "data": {
      "text/plain": [
       "array([0., 0., 1., 2.])"
      ]
     },
     "execution_count": 34,
     "metadata": {},
     "output_type": "execute_result"
    }
   ],
   "source": [
    "x = np.array([-2.0, -1.0, 1.0, 2.0])\n",
    "relu(x)"
   ]
  },
  {
   "cell_type": "markdown",
   "id": "2dc9fd30",
   "metadata": {},
   "source": [
    "ReLU 함수를 그래프로 그려보면 다음과 같다"
   ]
  },
  {
   "cell_type": "code",
   "execution_count": 74,
   "id": "f63485da",
   "metadata": {},
   "outputs": [
    {
     "data": {
      "image/png": "[encoded data removed]",
      "text/plain": [
       "<Figure size 432x288 with 1 Axes>"
      ]
     },
     "metadata": {
      "needs_background": "light"
     },
     "output_type": "display_data"
    }
   ],
   "source": [
    "import numpy as np\n",
    "import matplotlib.pylab as plt\n",
    "\n",
    "\n",
    "def relu(x):\n",
    "    return np.maximum(0, x)\n",
    "\n",
    "x = np.arange(-5.0, 5.0, 0.1)\n",
    "y = relu(x)\n",
    "plt.plot(x, y)\n",
    "plt.ylim(-1.0, 5.5)\n",
    "plt.show()"
   ]
  },
  {
   "cell_type": "markdown",
   "id": "9ee8697f",
   "metadata": {},
   "source": [
    "### 2.4. 비선형 함수"
   ]
  },
  {
   "cell_type": "markdown",
   "id": "a20d7ef5",
   "metadata": {},
   "source": [
    "계단 함수와 시그모이드 함수, ReLU 함수를 **비선형 함수**라고 한다. 비선형 함수는 직선 1개로는 그릴 수 없는 함수를 뜻한다.\n",
    "\n",
    "신경망에서는 활성화 함수로 비선형 함수를 사용해야 한다. 그 이유는 선형 함수를 사용하면 신경망의 층을 깊게 하는 의미가 없어지기 때문이다. \n",
    "\n",
    "*예를 들어 $h(x)=ax$의 선형 함수를 활성화 함수로 사용하는 3층 신경망을 구현해본다면 다음과 같다.*\n",
    "\n",
    "*$y(x) = h(h(h(x))) = a*a*a*x$*\n",
    "\n",
    "*즉 $y(x) = ax$의 형식으로 의미가 없다.($a = a^3$)*"
   ]
  },
  {
   "cell_type": "markdown",
   "id": "3f6eef01",
   "metadata": {},
   "source": [
    "## 3. 다층 신경망 구현"
   ]
  },
  {
   "cell_type": "markdown",
   "id": "51740f7a",
   "metadata": {},
   "source": [
    "### 3.1. 행렬의 곱"
   ]
  },
  {
   "cell_type": "markdown",
   "id": "a6e0e0d8",
   "metadata": {},
   "source": [
    "행렬의 곱은 왼쪽 행렬의 행(가로)과 오른쪽 행렬의 열(세로)을 원소별로 곱하고 그 값들을 더해서 계산한다.\n",
    "\n",
    "**다차원 배열을 곱할 때는 앞 행렬의 열과 뒷 행렬의 행의 크기가 같아야한다.**\n",
    "\n",
    "이 계산을 코드로 구현하면 다음과 같다."
   ]
  },
  {
   "cell_type": "code",
   "execution_count": 36,
   "id": "77d00321",
   "metadata": {},
   "outputs": [
    {
     "data": {
      "text/plain": [
       "array([[19, 22],\n",
       "       [43, 50]])"
      ]
     },
     "execution_count": 36,
     "metadata": {},
     "output_type": "execute_result"
    }
   ],
   "source": [
    "A = np.array([[1,2],[3,4]])\n",
    "B = np.array([[5,6],[7,8]])\n",
    "np.dot(A,B)"
   ]
  },
  {
   "cell_type": "markdown",
   "id": "aa91271b",
   "metadata": {},
   "source": [
    "### 3.2. 3층 신경망 구현"
   ]
  },
  {
   "cell_type": "markdown",
   "id": "c2d5a4af",
   "metadata": {},
   "source": [
    "다음과 같은 구조의 3층 신경망을 구현해보자. \n",
    "\n",
    "- 입력층 : 2개\n",
    "- 은닉 1층 : 3개\n",
    "- 은닉 2층 : 2개\n",
    "- 출력층 : 2개"
   ]
  },
  {
   "cell_type": "markdown",
   "id": "1f7925b8",
   "metadata": {},
   "source": [
    "#### 3.2.1. 표기법"
   ]
  },
  {
   "cell_type": "markdown",
   "id": "f0a8a161",
   "metadata": {},
   "source": [
    "- 입력층 : $x_1, x_2$\n",
    "- 은닉 1층 : $a_1^{(1)}, a_2^{(1)}, a_3^{(1)}$\n",
    "- 은닉 2층 : $a_1^{(2)}, a_2^{(2)}, a_3^{(2)}$\n",
    "- 출력층 : $y_1, y_2$\n",
    "\n",
    "---\n",
    "- 가중치 : $w_{다음 층 뉴런의 번호, 앞 층 뉴런의 번호}^{(다음 층)}$\n",
    "\n",
    "ex) $x_2$ -> $a_1^{(1)}$ : $w_{12}^{(1)}$"
   ]
  },
  {
   "cell_type": "markdown",
   "id": "47d1fcd8",
   "metadata": {},
   "source": [
    "#### 3.2.2. 각 층의 신호 전달 구현"
   ]
  },
  {
   "cell_type": "markdown",
   "id": "eabeef1c",
   "metadata": {},
   "source": [
    "신경망에서 $a_1^{(1)}$의 값은 다음과 같이 계산된다.\n",
    "\n",
    "- $a_1^{(1)} = w_{11}^{(1)}*x_1 + w_{12}^{(1)}*x_2 + b_1^{(1)}$\n",
    "\n",
    "이 수식에서 행렬의 곱을 사용하면 다음과 같이 간소화할 수 있다.\n",
    "\n",
    "- $A^{(1)} = XW^{(1)} + B^{(1)}$\n",
    "\n",
    "> $A^{(1)} = (a_1^{(1)}, a_2^{(1)}, a_3^{(1)})$          \n",
    "> $X = (x_1, x_2)$          \n",
    "> $B^{(1)} = b_1^{(1)}, b_2^{(1)}, b_3^{(1)}$                \n",
    "> $W^{(1)} = \\begin{pmatrix} w_{11}^{(1)} & w_{21}^{(1)} & w_{31}^{(1)} \\\\ w_{12}^{(1)} & w_{22}^{(1)} & w_{32}^{(1)} \\\\ \\end{pmatrix}$"
   ]
  },
  {
   "cell_type": "markdown",
   "id": "7fff8381",
   "metadata": {},
   "source": [
    "### 3.3. 코드 구현"
   ]
  },
  {
   "cell_type": "markdown",
   "id": "dae92c9f",
   "metadata": {},
   "source": [
    "아래 코드는 입력층에서 은닉 1층으로 신호를 전달하는 코드이다."
   ]
  },
  {
   "cell_type": "code",
   "execution_count": 44,
   "id": "f348c1a7",
   "metadata": {},
   "outputs": [
    {
     "name": "stdout",
     "output_type": "stream",
     "text": [
      "[0.3 0.7 1.1]\n",
      "[0.57444252 0.66818777 0.75026011]\n"
     ]
    }
   ],
   "source": [
    "X = np.array([1.0, 0.5])\n",
    "W1 = np.array([[0.1, 0.3, 0.5], [0.2, 0.4, 0.6]])\n",
    "B1 = np.array([0.1, 0.2, 0.3])\n",
    "\n",
    "A1 = np.dot(X, W1) + B1\n",
    "Z1 = sigmoid(A1)\n",
    "\n",
    "print(A1)\n",
    "print(Z1)"
   ]
  },
  {
   "cell_type": "markdown",
   "id": "8e535027",
   "metadata": {},
   "source": [
    "아래 코드는 은닉 1층에서 은닉 2층으로 신호를 전달하는 코드이다."
   ]
  },
  {
   "cell_type": "code",
   "execution_count": 45,
   "id": "c5a4b85b",
   "metadata": {},
   "outputs": [
    {
     "name": "stdout",
     "output_type": "stream",
     "text": [
      "[0.51615984 1.21402696]\n",
      "[0.62624937 0.7710107 ]\n"
     ]
    }
   ],
   "source": [
    "W2 = np.array([[0.1, 0.4], [0.2, 0.5], [0.3, 0.6]])\n",
    "B2 = np.array([0.1, 0.2])\n",
    "\n",
    "A2 = np.dot(Z1, W2) + B2\n",
    "Z2 = sigmoid(A2)\n",
    "\n",
    "print(A2)\n",
    "print(Z2)"
   ]
  },
  {
   "cell_type": "markdown",
   "id": "9c1fde79",
   "metadata": {},
   "source": [
    "아래 코드는 은닉 2층에서 출력층으로 신호를 전달하는 코드이다."
   ]
  },
  {
   "cell_type": "code",
   "execution_count": 46,
   "id": "71075267",
   "metadata": {},
   "outputs": [
    {
     "name": "stdout",
     "output_type": "stream",
     "text": [
      "[0.31682708 0.69627909]\n"
     ]
    }
   ],
   "source": [
    "W3 = np.array([[0.1, 0.3], [0.2, 0.4]])\n",
    "B3 = np.array([0.1, 0.2])\n",
    "\n",
    "A3 = np.dot(Z2, W3) + B3\n",
    "Y = A3\n",
    "\n",
    "print(Y)"
   ]
  },
  {
   "cell_type": "markdown",
   "id": "898ce2d7",
   "metadata": {},
   "source": [
    "identity_function(x)은 입력을 그래도 출력하는 **항등 함수**이다. "
   ]
  },
  {
   "cell_type": "markdown",
   "id": "500460c1",
   "metadata": {},
   "source": [
    "### 3.4. 구현 정리"
   ]
  },
  {
   "cell_type": "code",
   "execution_count": 48,
   "id": "7eadf95d",
   "metadata": {},
   "outputs": [
    {
     "name": "stdout",
     "output_type": "stream",
     "text": [
      "[0.31682708 0.69627909]\n"
     ]
    }
   ],
   "source": [
    "def init_network():\n",
    "    network = {}\n",
    "    network['W1'] = np.array([[0.1, 0.3, 0.5], [0.2, 0.4, 0.6]])\n",
    "    network['b1'] = np.array([0.1, 0.2, 0.3])\n",
    "    network['W2'] = np.array([[0.1, 0.4], [0.2, 0.5], [0.3, 0.6]])\n",
    "    network['b2'] = np.array([0.1, 0.2])\n",
    "    network['W3'] = np.array([[0.1, 0.3], [0.2, 0.4]])\n",
    "    network['b3'] = np.array([0.1, 0.2])\n",
    "    \n",
    "    return network\n",
    "\n",
    "def forward(network, x):\n",
    "    W1, W2, W3 = network['W1'], network['W2'], network['W3']\n",
    "    b1, b2, b3 = network['b1'], network['b2'], network['b3']\n",
    "    \n",
    "    a1 = np.dot(x, W1) + b1\n",
    "    z1 = sigmoid(a1)\n",
    "    a2 = np.dot(z1, W2) + b2\n",
    "    z2 = sigmoid(a2)\n",
    "    a3 = np.dot(z2, W3) + b3\n",
    "    y = A3\n",
    "    \n",
    "    return y\n",
    "\n",
    "network = init_network()\n",
    "x = np.array([1.0, 0.5])\n",
    "y = forward(network, x)\n",
    "print(y)"
   ]
  },
  {
   "cell_type": "markdown",
   "id": "8b077569",
   "metadata": {},
   "source": [
    "**신경망의 구현 관례**에 따라 가중치만 대문자로 쓰고, 그 외는 소문자로 작성했다."
   ]
  },
  {
   "cell_type": "markdown",
   "id": "43abf0d3",
   "metadata": {},
   "source": [
    "## 4. 출력층 설계"
   ]
  },
  {
   "cell_type": "markdown",
   "id": "5dc3bc08",
   "metadata": {},
   "source": [
    "기계학습 문제는 **분류**와 **회귀**로 나눈다.\n",
    "- 분류 : 데이터가 어느 클래스에 속하는가\n",
    "- 회귀 : 입력 데이터에서 연속적인 수치 예측\n",
    "    \n",
    "일반적으로 신경망에서 *회귀*에서는 **항등 함수**를, *분류*에서는 **소프트맥스 함수**를 사용한다."
   ]
  },
  {
   "cell_type": "markdown",
   "id": "824788d8",
   "metadata": {},
   "source": [
    "### 4.1. 항등함수 구현"
   ]
  },
  {
   "cell_type": "markdown",
   "id": "855bd037",
   "metadata": {},
   "source": [
    "항등 함수는 입력을 그래로 출력한다. 즉 입력과 출력이 항상 같기 때문에 $y = a$로 구현된다."
   ]
  },
  {
   "cell_type": "markdown",
   "id": "33bb1eef",
   "metadata": {},
   "source": [
    "### 4.2. 소프트맥스 함수 구현"
   ]
  },
  {
   "cell_type": "markdown",
   "id": "25a5e562",
   "metadata": {},
   "source": [
    "소프트맥스 함수의 식은 다음과 같다.\n",
    "\n",
    "$y_k = e^{a^{k}} / \\sum_{i=1}^{n} a_i$\n",
    "\n",
    "\n",
    "- $y_k$ : $k$번째 출력\n",
    "- $n$ : 출력층의 뉴런 수\n",
    "\n",
    "소프트맥스 함수를 구현하면 다음과 같다."
   ]
  },
  {
   "cell_type": "code",
   "execution_count": 64,
   "id": "84c6b390",
   "metadata": {},
   "outputs": [],
   "source": [
    "def softmax(a):\n",
    "    exp_a = np.exp(a)\n",
    "    sum_exp_a = np.sum(exp_a)\n",
    "    y = exp_a / sum_exp_a\n",
    "    \n",
    "    return y"
   ]
  },
  {
   "cell_type": "code",
   "execution_count": 65,
   "id": "80a6733c",
   "metadata": {},
   "outputs": [
    {
     "name": "stdout",
     "output_type": "stream",
     "text": [
      "[0.01821127 0.24519181 0.73659691]\n"
     ]
    }
   ],
   "source": [
    "a = np.array([0.3, 2.9, 4.0])\n",
    "y = softmax(a)\n",
    "print(y)"
   ]
  },
  {
   "cell_type": "markdown",
   "id": "98b88f2b",
   "metadata": {},
   "source": [
    "#### 4.2.1. 소프트맥스 함수 구현 시 주의점"
   ]
  },
  {
   "cell_type": "markdown",
   "id": "2a9d85ba",
   "metadata": {},
   "source": [
    "소프트맥스 함수를 코드로 구현할 때는 오버플로우 문제를 고려해야한다. 이 문제를 해결하기 위해서는 소프트맥스 함수를 다음과 같이 변형해야한다.\n",
    "\n",
    "$y_k = e^{a^{k}} / \\sum_{i=1}^{n} a_i = Ce^{a^{k}} / C\\sum_{i=1}^{n} a_i = e^{a^{k} + \\log_e C} / \\sum_{i=1}^{n} {(a_i+\\log_e C)} =  e^{a^{k} + C^{'}} / \\sum_{i=1}^{n} {(a_i+C^{'})}$ \n",
    "\n",
    "- $C^{'}$에는 어떤 값을 대입해도 상관없지만, 오버플로우를 막을 목적으로는 **입력 신호 중 최댓값 이용**\n",
    "\n",
    "이를 바탕으로 소프트맥스 함수를 구현하면 다음과 같다."
   ]
  },
  {
   "cell_type": "code",
   "execution_count": 66,
   "id": "c286e618",
   "metadata": {},
   "outputs": [],
   "source": [
    "def softmax(a):\n",
    "    c = np.max(a)\n",
    "    exp_a = np.exp(a - c) # 오버 플로우 방지\n",
    "    sum_exp_a = np.sum(exp_a)\n",
    "    y = exp_a / sum_exp_a\n",
    "    \n",
    "    return y"
   ]
  },
  {
   "cell_type": "code",
   "execution_count": 67,
   "id": "73811843",
   "metadata": {},
   "outputs": [
    {
     "name": "stdout",
     "output_type": "stream",
     "text": [
      "[0.01821127 0.24519181 0.73659691]\n"
     ]
    }
   ],
   "source": [
    "a = np.array([0.3, 2.9, 4.0])\n",
    "y = softmax(a)\n",
    "print(y)"
   ]
  },
  {
   "cell_type": "markdown",
   "id": "c34c0db4",
   "metadata": {},
   "source": [
    "#### 4.2.2. 소프트맥스 함수의 특징"
   ]
  },
  {
   "cell_type": "markdown",
   "id": "9dd9b2dc",
   "metadata": {},
   "source": [
    "- 소프트맥스 함수의 출력은 0 ~ 1.0 사이의 실수\n",
    "- **출력의 총 합은 1**\n",
    "\n",
    "이러한 성질을 바탕으로 소프트맥스 함수의 출력을 **확률**로 해석할 수 있다."
   ]
  },
  {
   "cell_type": "code",
   "execution_count": 69,
   "id": "a6c7fc18",
   "metadata": {},
   "outputs": [
    {
     "name": "stdout",
     "output_type": "stream",
     "text": [
      "[0.01821127 0.24519181 0.73659691]\n",
      "1.0\n"
     ]
    }
   ],
   "source": [
    "a = np.array([0.3, 2.9, 4.0])\n",
    "x = softmax(a)\n",
    "y = np.sum(x)\n",
    "print(x)\n",
    "print(y)"
   ]
  },
  {
   "cell_type": "markdown",
   "id": "63945466",
   "metadata": {},
   "source": [
    "### 4.3. 출력층 뉴런 수 정하기"
   ]
  },
  {
   "cell_type": "markdown",
   "id": "9f15072a",
   "metadata": {},
   "source": [
    "출력층의 뉴런 수는 분류하고자 하는 클래스의 수로 결정한다."
   ]
  },
  {
   "cell_type": "markdown",
   "id": "6045152a",
   "metadata": {},
   "source": [
    "### 4.4. 손글씨 숫자 인식"
   ]
  },
  {
   "cell_type": "markdown",
   "id": "262b7bcd",
   "metadata": {},
   "source": [
    "기계학습 문제 풀이는 **학습**과 **추론**으로 나뉜다.\n",
    "\n",
    "- 학습 : 모델을 학습\n",
    "- 추론 : 학습한 모델로 미지의 데이터에 대한 분류\n",
    "\n",
    "신경망 역시 기계학습 문제와 동일한 과정을 거친다. 하지만 이번에는 미리 학습된 매개변수를 사용하여 학습 과정은 생략한다. 다음에 구현하는 추론 과정은 신경망의 **순전파**라고도 한다."
   ]
  },
  {
   "cell_type": "markdown",
   "id": "bad0c84d",
   "metadata": {},
   "source": [
    "#### 4.4.1. MNIST 데이터 셋"
   ]
  },
  {
   "cell_type": "markdown",
   "id": "f50c04dc",
   "metadata": {},
   "source": [
    "**MNIST 데이터 셋**은 0 ~ 9의 숫자 이미지로 훈련 이미지가 60,000장, 시험 이미지가 10,000장 준비되어 있다."
   ]
  },
  {
   "cell_type": "code",
   "execution_count": 79,
   "id": "28c36504",
   "metadata": {},
   "outputs": [
    {
     "name": "stdout",
     "output_type": "stream",
     "text": [
      "(60000, 784)\n",
      "(60000,)\n",
      "(10000, 784)\n",
      "(10000,)\n"
     ]
    }
   ],
   "source": [
    "import sys, os\n",
    "sys.path.append(os.pardir) # 부모 디렉터리 파일을 가져올 수 있도록 설정\n",
    "from dataset.mnist import load_mnist\n",
    "\n",
    "(x_train, t_train), (x_test, t_test) = load_mnist(flatten=True, normalize=False)\n",
    "\n",
    "# 각 데이터의 형상 출력\n",
    "print(x_train.shape)\n",
    "print(t_train.shape)\n",
    "print(x_test.shape)\n",
    "print(t_test.shape)"
   ]
  },
  {
   "cell_type": "markdown",
   "id": "1e06ebd1",
   "metadata": {},
   "source": [
    "코드는 다음과 같이 실행된다.\n",
    "\n",
    "1. 부모 디렉터리의 파일을 가져올 수 있도록 설정\n",
    "2. dataset/mnist.py의 load_mnist 함수 import\n",
    "3. load_mnist()로 MNIST 데이터셋 읽음\n",
    "\n",
    "- 첫 번째 실행 시 MNIST 데이터를 받아옴          \n",
    "- 두 번째부터 로컬에 저장된 pickle 파일을 읽어 사용"
   ]
  },
  {
   "cell_type": "markdown",
   "id": "79d5eb6b",
   "metadata": {},
   "source": [
    "**load_mnist()** 는 MNIST 데이터를 (훈련 이미지, 훈련 레이블), (시험 이미지, 시험 레이블) 형식으로 반환한다. 인수르는 bool 타입의 normalize, flatten, one_hot_label을 설정할 수 있다.\n",
    "\n",
    "- normalize : 입력 이미지의 픽셀 값을 0.0 ~ 1.0 사이로 정규할지 결정\n",
    "- flatten : 입력 이미지를 1차원 배열로 만들지 결정\n",
    "- one_hot_label :정답만 1, 나머지는 0으로 설정할지 결정"
   ]
  },
  {
   "cell_type": "markdown",
   "id": "f9f024d6",
   "metadata": {},
   "source": [
    "MNIST  이미지를 화면으로 불러오는 코드는 다음과 같다. 이미지 표시는 PIL 모듈을 사용한다."
   ]
  },
  {
   "cell_type": "code",
   "execution_count": 80,
   "id": "36d7d2dd",
   "metadata": {},
   "outputs": [
    {
     "name": "stdout",
     "output_type": "stream",
     "text": [
      "5\n",
      "(784,)\n",
      "(28, 28)\n"
     ]
    }
   ],
   "source": [
    "import sys, os\n",
    "sys.path.append(os.pardir)\n",
    "import numpy as np\n",
    "from dataset.mnist import load_mnist\n",
    "from PIL import Image\n",
    "\n",
    "\n",
    "def img_show(img):\n",
    "    pil_img = Image.fromarray(np.uint8(img)) # PIL용 데이터 객체로 변환\n",
    "    pil_img.show()\n",
    "\n",
    "(x_train, t_train), (x_test, t_test) = load_mnist(flatten=True, normalize=False)\n",
    "\n",
    "img = x_train[0]\n",
    "label = t_train[0]\n",
    "print(label)\n",
    "\n",
    "print(img.shape) \n",
    "img = img.reshape(28, 28)  # 형상을 원래 이미지의 크기로 변형\n",
    "print(img.shape)\n",
    "\n",
    "img_show(img)"
   ]
  },
  {
   "cell_type": "markdown",
   "id": "16bf21cf",
   "metadata": {},
   "source": [
    "1. flatten=True를 통해 1차원 배열로 읽었기 때문에 출력하기 전에 reshape(28, 28)을 통해 다시 크기를 변형해 준다.\n",
    "2. fromarray(np.uint8(img))를 통해 PIL 모듈이 사용 가능한 데이터 객체로 변환한다."
   ]
  },
  {
   "cell_type": "markdown",
   "id": "8cc5d264",
   "metadata": {},
   "source": [
    "#### 4.4.2. 신경망 추론 처리"
   ]
  },
  {
   "cell_type": "markdown",
   "id": "c63c5737",
   "metadata": {},
   "source": [
    "MNIST 데이터셋을 추론하는 신경망은 다음과 같이 구성한다.\n",
    "\n",
    "- 입력층 : 784\n",
    "- 은닉 1층 : 50\n",
    "- 은닉 2층 : 100\n",
    "- 출력층 : 10\n",
    "\n",
    "입력층은 28\\*28=784이기 때문에 784이고, 출력층은 출력 결과가 0~9로 10개이기 때문에 10이다."
   ]
  },
  {
   "cell_type": "code",
   "execution_count": 89,
   "id": "ea4aa42a",
   "metadata": {},
   "outputs": [
    {
     "name": "stdout",
     "output_type": "stream",
     "text": [
      "Accuracy:0.9352\n"
     ]
    }
   ],
   "source": [
    "import sys, os\n",
    "sys.path.append(os.pardir)\n",
    "import numpy as np\n",
    "import pickle\n",
    "from dataset.mnist import load_mnist\n",
    "from common.functions import sigmoid, softmax\n",
    "\n",
    "\n",
    "def get_data(): # NNIST 데이터셋 읽음\n",
    "    (x_train, t_train), (x_test, t_test) = load_mnist(normalize=True, flatten=True, one_hot_label=False)\n",
    "    return x_test, t_test\n",
    "\n",
    "\n",
    "def init_network(): # 학습된 가중치 매개변수 읽음\n",
    "    with open(\"sample_weight.pkl\", 'rb') as f: # sample_weight.pkl내에 학습된 가중치 매개변수 존재\n",
    "        network = pickle.load(f)\n",
    "    return network\n",
    "\n",
    "\n",
    "def predict(network, x): #  신경망 구성\n",
    "    W1, W2, W3 = network['W1'], network['W2'], network['W3']\n",
    "    b1, b2, b3 = network['b1'], network['b2'], network['b3']\n",
    "\n",
    "    a1 = np.dot(x, W1) + b1\n",
    "    z1 = sigmoid(a1)\n",
    "    a2 = np.dot(z1, W2) + b2\n",
    "    z2 = sigmoid(a2)\n",
    "    a3 = np.dot(z2, W3) + b3\n",
    "    y = softmax(a3)\n",
    "\n",
    "    return y\n",
    "\n",
    "\n",
    "x, t = get_data()\n",
    "network = init_network()\n",
    "accuracy_cnt = 0\n",
    "for i in range(len(x)):\n",
    "    y = predict(network, x[i])\n",
    "    p= np.argmax(y) # 확률이 가장 높은 원소의 인덱스를 얻는다.\n",
    "    if p == t[i]:\n",
    "        accuracy_cnt += 1\n",
    "\n",
    "print(\"Accuracy:\" + str(float(accuracy_cnt) / len(x)))"
   ]
  },
  {
   "cell_type": "markdown",
   "id": "fbd333e6",
   "metadata": {},
   "source": [
    "위 코드는 다음과 같이 동작한다.\n",
    "1. MNIST 데이터셋을 얻고 네트워크 생성\n",
    "2. x에 저장된 이미지 데이터를 1장씩 predict()로 분류\n",
    "3. predict() : 각 레이블의 확률을 넘파이 배열로 반환\n",
    "4. 배열에서 가장 큰 원소 인덱스 구함**(예측)**\n",
    "5. 신경망이 예측한 답과 정답 레이블 비교 후 정답 카운트(accuracy_cnt)\n",
    "6. 정답 카운트를 전체 이미지 숫자로 나눠 정확도 구함"
   ]
  },
  {
   "cell_type": "markdown",
   "id": "384e2719",
   "metadata": {},
   "source": [
    "위 코드에서 normalize=True로 설정했다. 이를 통해 입력 이미지 데이터에 대한 **전처리 작업**으로 **정규화**를 수행했다.\n",
    "- 전처리 : 신경망의 입력 데이터에 특정 변환을 가하는 것\n",
    "- 정규화 : 데이터를 특정 범위로 변환하는 처리\n",
    "\n",
    "전처리 작업을 통해 **식별 능력 개선**과 **학습 속도 증가**의 효과를 볼 수 있다.\n",
    "\n",
    "실제 작업에서는 **데이터의 분포**를 고려하여 전처리를 수행한다."
   ]
  },
  {
   "cell_type": "markdown",
   "id": "92efdbd9",
   "metadata": {},
   "source": [
    "#### 4.4.3. 배치 처리"
   ]
  },
  {
   "cell_type": "markdown",
   "id": "9b330aec",
   "metadata": {},
   "source": [
    "**배치(batch)** : 하나로 묶은 입력 데이터\n",
    "\n",
    "배치 처리는 다음과 같은 이유로 이미지 1장당 처리 시간을 줄여준다.\n",
    "1. 컴퓨터의 수치 계산 라이브러리 대부분이 큰 배열을 효율적으로 처리할 수 있음\n",
    "2. 느린 I/O를 통해 데이터를 읽는 횟수를 줄여 CPU/GPU의 계산 비율을 높임\n",
    "\n",
    "배치 처리를 추가한 손글씨 숫자 인식 최종 코드는 다음과 같다."
   ]
  },
  {
   "cell_type": "code",
   "execution_count": 90,
   "id": "f6ff60c6",
   "metadata": {},
   "outputs": [
    {
     "name": "stdout",
     "output_type": "stream",
     "text": [
      "Accuracy:0.9352\n"
     ]
    }
   ],
   "source": [
    "import sys, os\n",
    "sys.path.append(os.pardir) \n",
    "import numpy as np\n",
    "import pickle\n",
    "from dataset.mnist import load_mnist\n",
    "from common.functions import sigmoid, softmax\n",
    "\n",
    "\n",
    "def get_data(): # NNIST 데이터셋 읽음\n",
    "    (x_train, t_train), (x_test, t_test) = load_mnist(normalize=True, flatten=True, one_hot_label=False)\n",
    "    return x_test, t_test\n",
    "\n",
    "\n",
    "def init_network(): # 학습된 가중치 매개변수 읽음\n",
    "    with open(\"sample_weight.pkl\", 'rb') as f:\n",
    "        network = pickle.load(f)\n",
    "    return network\n",
    "\n",
    "\n",
    "def predict(network, x): #  신경망 구성\n",
    "    w1, w2, w3 = network['W1'], network['W2'], network['W3']\n",
    "    b1, b2, b3 = network['b1'], network['b2'], network['b3']\n",
    "\n",
    "    a1 = np.dot(x, w1) + b1\n",
    "    z1 = sigmoid(a1)\n",
    "    a2 = np.dot(z1, w2) + b2\n",
    "    z2 = sigmoid(a2)\n",
    "    a3 = np.dot(z2, w3) + b3\n",
    "    y = softmax(a3)\n",
    "\n",
    "    return y\n",
    "\n",
    "# 배치 처리\n",
    "x, t = get_data()\n",
    "network = init_network()\n",
    "\n",
    "batch_size = 100 # 배치 크기\n",
    "accuracy_cnt = 0\n",
    "\n",
    "for i in range(0, len(x), batch_size):\n",
    "    x_batch = x[i:i+batch_size]\n",
    "    y_batch = predict(network, x_batch)\n",
    "    p = np.argmax(y_batch, axis=1)\n",
    "    accuracy_cnt += np.sum(p == t[i:i+batch_size])\n",
    "\n",
    "print(\"Accuracy:\" + str(float(accuracy_cnt) / len(x)))"
   ]
  },
  {
   "cell_type": "markdown",
   "id": "35cbf9ac",
   "metadata": {},
   "source": [
    "위 코드 중 배치 처리를 진행하는 코드는 다음과 같이 동작한다.\n",
    "1. range()를 통해 0에서 len(x)-1까지 batch_size 간격으로 증가하는 리스트 반환\n",
    "2. \\[i:i+batch_size\\]에서 i에서 i+batch_size까지의 입력 데이터 묶음\n",
    "3. argmax()내에 axis=1을 통해 1번째 차원 원소의 최댓값을 찾음"
   ]
  }
 ],
 "metadata": {
  "kernelspec": {
   "display_name": "Python 3",
   "language": "python",
   "name": "python3"
  },
  "language_info": {
   "codemirror_mode": {
    "name": "ipython",
    "version": 3
   },
   "file_extension": ".py",
   "mimetype": "text/x-python",
   "name": "python",
   "nbconvert_exporter": "python",
   "pygments_lexer": "ipython3",
   "version": "3.8.8"
  }
 },
 "nbformat": 4,
 "nbformat_minor": 5
}

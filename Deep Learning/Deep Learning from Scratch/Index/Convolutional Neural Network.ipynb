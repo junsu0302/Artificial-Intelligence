{
 "cells": [
  {
   "cell_type": "markdown",
   "id": "2d0e5a8d",
   "metadata": {},
   "source": [
    "# 합성곱 신경망(CNN)"
   ]
  },
  {
   "cell_type": "markdown",
   "id": "c0bece0f",
   "metadata": {},
   "source": [
    "딥러닝을 활용한 기법들은 거의 다 CNN을 기초를 두고있다."
   ]
  },
  {
   "cell_type": "markdown",
   "id": "e3ce4a83",
   "metadata": {},
   "source": [
    "지금까지 살펴본 구조는 인접하는 계층의 모든 뉴런과 결합되어 있는 **fully-connected(완전연결)** 구조로 `Affine-ReLU`구조가 쌓이다가 마지막 층에 `Affine-Softmax`구조로 이루어졌다.\n",
    "\n",
    "하지만 CNN은 `합성곱 계층(Conv)-ReLU-풀링 계층(Pooling)` 으로 이루어진다. 완전 연결 구조와는 다르게 Pooling 계층이 빠진 `Conv-ReLU`구조도 사용할 수 있다. 그리고 출력에 가까운 층에서는 `Affine-ReLU`구조를 사용할 수 있고, 출력 계층에서는 `Affine-Softmax`를 사용한다."
   ]
  },
  {
   "cell_type": "markdown",
   "id": "e4de5f36",
   "metadata": {},
   "source": [
    "## 1. 합성곱 계층"
   ]
  },
  {
   "cell_type": "markdown",
   "id": "e6ee4180",
   "metadata": {},
   "source": [
    "### 1.1. 완전연결 계층의 문제점"
   ]
  },
  {
   "cell_type": "markdown",
   "id": "053f1848",
   "metadata": {},
   "source": [
    "완전연결 계층은 다음과 같은 특징을 갖는다.\n",
    "1. 인접하는 계층의 뉴련이 모두 연결\n",
    "2. 출력의 수를 임의로 설정 가능\n",
    "3. 데이터의 형상 무시\n",
    "\n",
    "이 중에서 데이터 형상을 무시하는 것이 문제가 된다. 입력으로 n 차원이 입력되더라도 1 차원으로 변형을 거쳐야한다. 이로 인해 입력 데이터의 형상에 담긴 정보를 살릴 수 없게 된다.\n",
    "\n",
    "합성곱 입출력 데이터를 **특징 맵**이라고 하며 형상을 유지한다.\n",
    "- **입력 특징 맵** : 입력 데이터\n",
    "- **출력 특징 맵** : 출력 데이터"
   ]
  },
  {
   "cell_type": "markdown",
   "id": "b55c49ab",
   "metadata": {},
   "source": [
    "### 1.2. 합성곱 연산"
   ]
  },
  {
   "cell_type": "markdown",
   "id": "d0161f8f",
   "metadata": {},
   "source": [
    "합성곱 연산은 **필터**를 사용한다. 입력 데이터에서 필터와 대응하는 원소끼리 곱한 후 그 총합을 구한다. 이러한 계산을 **Fused Multiply-Add(단일 곱셈-누산)** 이라고 한다.\n",
    "\n",
    "신경망에서는 가중치 매개변수와 편항을 사용했다. CNN에서는 필터의 매개변수가 **가중치**에 해당한다. "
   ]
  },
  {
   "cell_type": "markdown",
   "id": "250af3b4",
   "metadata": {},
   "source": [
    "#### 1.2.1. 패딩"
   ]
  },
  {
   "cell_type": "markdown",
   "id": "f4e52959",
   "metadata": {},
   "source": [
    "**패딩** 합성곱 연산을 수행하기 전에 입력 데이터 주변을 특정 값으로 채운다. 이를 통해 출력 데이터의 크기를 크게 만들 수 있다."
   ]
  },
  {
   "cell_type": "markdown",
   "id": "65b161c1",
   "metadata": {},
   "source": [
    "#### 1.2.2. 스트라이드"
   ]
  },
  {
   "cell_type": "markdown",
   "id": "2f4df71d",
   "metadata": {},
   "source": [
    "필터를 적용하는 위치 간격을 **스트라이드**라고 한다. 아룰 통해 출력 데이터의 크기를 작게 만들 수 있다."
   ]
  },
  {
   "cell_type": "markdown",
   "id": "31f6e62f",
   "metadata": {},
   "source": [
    "#### 1.2.3. 원도우"
   ]
  },
  {
   "cell_type": "markdown",
   "id": "ead4e55d",
   "metadata": {},
   "source": [
    "입력 데이터에서 필터가 적용되는 부분을 **윈도우**라고 한다."
   ]
  },
  {
   "cell_type": "markdown",
   "id": "b49c1d92",
   "metadata": {},
   "source": [
    "#### 1.2.4. 출력 차원"
   ]
  },
  {
   "cell_type": "markdown",
   "id": "8a776fef",
   "metadata": {},
   "source": [
    "필터의 개수에 따라 출력 데이터의 **차원(채널)**을 결정한다. 이를 통해 각 계층을 흐르는 데이터의 차원을 동일하게 유지할 수 있다."
   ]
  },
  {
   "cell_type": "markdown",
   "id": "1d7f52ea",
   "metadata": {},
   "source": [
    "## 2. 풀링 계층"
   ]
  },
  {
   "cell_type": "markdown",
   "id": "4d35a020",
   "metadata": {},
   "source": [
    "**풀링**은 공간을 줄이는 연산으로 다음과 같은 특징을 갖는다.\n",
    "\n",
    "1. 학습해야 할 매개변수가 없다.\n",
    "2. 채널 수가 변하지 않는다.\n",
    "3. 입력의 변화에 영향을 적게 받는다."
   ]
  },
  {
   "cell_type": "markdown",
   "id": "caf92ed8",
   "metadata": {},
   "source": [
    "### 2.1. 최대 풀링"
   ]
  },
  {
   "cell_type": "markdown",
   "id": "82145930",
   "metadata": {},
   "source": [
    "풀링 영역 내부 원소 중 가장 큰 원소를 꺼낸다. 이미지 인식에서 주로 사용한다. "
   ]
  },
  {
   "cell_type": "markdown",
   "id": "0e0079be",
   "metadata": {},
   "source": [
    "### 2.2. 평균 풀링"
   ]
  },
  {
   "cell_type": "markdown",
   "id": "e4d46183",
   "metadata": {},
   "source": [
    "풀링 영역 내부 원소의 평균을 계산한다."
   ]
  },
  {
   "cell_type": "markdown",
   "id": "1e7f28a5",
   "metadata": {},
   "source": [
    "## 3. 합성곱/풀링 계층 구현"
   ]
  },
  {
   "cell_type": "markdown",
   "id": "fb7c1b15",
   "metadata": {},
   "source": [
    "CNN에서는 배열의 **높이, 너비, 채널 수**의 3차원 데이터를 사용한다. 여기서 배치 처리를 위해 차원을 1개 늘려 총 **4 차원**의 데이터를 사용한다. \n",
    "\n",
    "`입력데이터(N, C, H, W) * 필터(FN, C, FH, FW) + 편향(FN, 1, 1) = 출력데이터(N, FN, OH, OW`"
   ]
  },
  {
   "cell_type": "markdown",
   "id": "3473a057",
   "metadata": {},
   "source": [
    "### 3.1. 차원 배열"
   ]
  },
  {
   "cell_type": "markdown",
   "id": "a3ebfdea",
   "metadata": {},
   "source": [
    "높이 28, 너비 28, 채널 1개인 데이터가 10개인 데이터 형상은 다음과 같이 표현한다."
   ]
  },
  {
   "cell_type": "code",
   "execution_count": 3,
   "id": "8a86211a",
   "metadata": {},
   "outputs": [],
   "source": [
    "import numpy as np\n",
    "\n",
    "x = np.random.rand(10, 1, 28, 28)"
   ]
  },
  {
   "cell_type": "code",
   "execution_count": 6,
   "id": "b8025b93",
   "metadata": {},
   "outputs": [
    {
     "name": "stdout",
     "output_type": "stream",
     "text": [
      "전체 데이터 형상 : (10, 1, 28, 28)\n",
      "첫 번째 데이터 형상 : (1, 28, 28)\n",
      "첫 번째 채널 형상 : (28, 28)\n"
     ]
    }
   ],
   "source": [
    "print(\"전체 데이터 형상 :\", x.shape)\n",
    "print(\"첫 번째 데이터 형상 :\", x[0].shape)\n",
    "print(\"첫 번째 채널 형상 :\", x[0, 0].shape)"
   ]
  },
  {
   "cell_type": "markdown",
   "id": "e01929f8",
   "metadata": {},
   "source": [
    "위와 같이 다차원 배열을 합성곱 연산에 사용하기 위해서는 for문을 반복해야 한다. 하지만 numpy에 for문을 사용하면 성능이 떨어진다. 따라서 for문 대신 **im2col**을 사용한다.\n",
    "\n",
    "in2col은 입력 데이터를 필터링하기 좋게 전개하는 함수다. CNN에서는 4차원 데이터를 2차원으로 변환한다. \n",
    "\n",
    "- 장점 : 큰 행렬을 묶어 계산하는데 편리\n",
    "- 단점 : 메모리를 많이 소비\n",
    "\n",
    "**im2col(input_data, filter_h, filter_w, stride=1, pad=0)**\n",
    "\n",
    "- **input_data** : (데이터수, 채널수, 높이, 너비)의 4차원 배열로 이루어진 데이터\n",
    "- **filter_h** : 필터 높이\n",
    "- **filter_w** : 필터 너비\n",
    "- **stride** : 스트라이드\n",
    "- **pad** : 패딩"
   ]
  },
  {
   "cell_type": "code",
   "execution_count": null,
   "id": "e0a7e734",
   "metadata": {},
   "outputs": [],
   "source": [
    "def im2col(input_data, filter_h, filter_w, stride=1, pad=0):\n",
    "    # 다수의 이미지를 입력받아 2차원 배열로 변환한다(평탄화).\n",
    "\n",
    "    N, C, H, W = input_data.shape\n",
    "    out_h = (H + 2*pad - filter_h)//stride + 1\n",
    "    out_w = (W + 2*pad - filter_w)//stride + 1\n",
    "\n",
    "    img = np.pad(input_data, [(0,0), (0,0), (pad, pad), (pad, pad)], 'constant')\n",
    "    col = np.zeros((N, C, filter_h, filter_w, out_h, out_w))\n",
    "\n",
    "    for y in range(filter_h):\n",
    "        y_max = y + stride*out_h\n",
    "        for x in range(filter_w):\n",
    "            x_max = x + stride*out_w\n",
    "            col[:, :, y, x, :, :] = img[:, :, y:y_max:stride, x:x_max:stride]\n",
    "\n",
    "    col = col.transpose(0, 4, 5, 1, 2, 3).reshape(N*out_h*out_w, -1)\n",
    "    return col"
   ]
  },
  {
   "cell_type": "markdown",
   "id": "154b2db8",
   "metadata": {},
   "source": [
    "### 3.2. 합성곱 계층 구현"
   ]
  },
  {
   "cell_type": "markdown",
   "id": "ab927935",
   "metadata": {},
   "source": [
    "im2col을 사용하여 합성곱 계층을 구현하면 다음과 같다."
   ]
  },
  {
   "cell_type": "code",
   "execution_count": 1,
   "id": "9ce4e999",
   "metadata": {},
   "outputs": [],
   "source": [
    "class Convolution:\n",
    "    def __init__(self, W, b, stride=1, pad=0):\n",
    "        self.W = W\n",
    "        self.b = b\n",
    "        self.stride = stride\n",
    "        self.pad = pad\n",
    "        \n",
    "    def forward(self, x):\n",
    "        FN, C, FH, FW = self.W.shape\n",
    "        N, C, H, W = x.shape\n",
    "        out_h = 1 + int((H + 2*self.pad - FH) / self.stride)\n",
    "        out_w = 1 + int((W + 2*self.pad - FW) / self.stride)\n",
    "\n",
    "        col = im2col(x, FH, FW, self.stride, self.pad)\n",
    "        col_W = self.W.reshape(FN, -1).T # 필터 전개\n",
    "\n",
    "        out = np.dot(col, col_W) + self.b\n",
    "        out = out.reshape(N, out_h, out_w, -1).transpose(0, 3, 1, 2)\n",
    "\n",
    "        return out"
   ]
  },
  {
   "cell_type": "markdown",
   "id": "73469c9c",
   "metadata": {},
   "source": [
    "**reshape에 -1을 지정**하면 다차원 배열의 원소 수가 변환 후에도 똑같이 유지되도록 묶어준다. 위 코드에서 배열 W의 원소의 총 수는 750개다. 이 배열에 reshape(10, -1)을 하면 750개의 원소를 10 묶음으로 만든다. 즉 (10, 75)가 된다.\n",
    "\n",
    "**transpose()** 는 다차원 배열의 축 순서를 바꿔주는 함수다. 원래 배열의 인덱스 번호로 축의 순서를 변경한다. 위 코드에서 원래 배열이 (N, H, W, C)에서 (N, C, H, W)로 바뀌었다."
   ]
  },
  {
   "cell_type": "markdown",
   "id": "cc9618f3",
   "metadata": {},
   "source": [
    "### 3.3. 폴링 계층 구현"
   ]
  },
  {
   "cell_type": "markdown",
   "id": "04950921",
   "metadata": {},
   "source": [
    "풀링은 다음과 같은 단계로 진행된다.\n",
    "1. 입력 데이터 전개\n",
    "2. 행별 최댓값 수색\n",
    "3. 적절한 모양으로 성형\n",
    "\n",
    "이를 코드로 구현하면 다음과 같다."
   ]
  },
  {
   "cell_type": "code",
   "execution_count": 2,
   "id": "442303fb",
   "metadata": {},
   "outputs": [],
   "source": [
    "class Pooling:\n",
    "    def __init__(self, pool_h, pool_w, stride=1, pad=0):\n",
    "        self.pool_h = pool_h\n",
    "        self.pool_w = pool_w\n",
    "        self.stride = stride\n",
    "        self.pad = pad\n",
    "        \n",
    "    def forward(self, x):\n",
    "        N, C, H, W = x.shape\n",
    "        out_h = int(1 + (H - self.pool_h) / self.stride)\n",
    "        out_w = int(1 + (W - self.pool_w) / self.stride)\n",
    "        \n",
    "        # 1. 전개\n",
    "        col = im2col(x, self.pool_h, self.pool_w, self.stride, self.pad)\n",
    "        col = col.reshape(-1, self.pool_h*self.pool_w)\n",
    "        \n",
    "        # 2. 최댓값\n",
    "        out = np.max(col, axis=1)\n",
    "        \n",
    "        # 3. 성형\n",
    "        out = out.reshape(N, out_h, out_w, C).transpose(0, 3, 1, 2)\n",
    "\n",
    "        return out"
   ]
  },
  {
   "cell_type": "markdown",
   "id": "a8e78a6a",
   "metadata": {},
   "source": [
    "## 4. CNN 구현"
   ]
  },
  {
   "cell_type": "markdown",
   "id": "e4e4244b",
   "metadata": {},
   "source": [
    "`Conv-ReLU-Pooling-Affine-ReLU-Affine-Softmax`구조의 CNN 네트워크를 구현하면 다음과 같다. "
   ]
  },
  {
   "cell_type": "code",
   "execution_count": 1,
   "id": "f6269cd0",
   "metadata": {},
   "outputs": [],
   "source": [
    "import sys, os\n",
    "sys.path.append(os.pardir) \n",
    "import pickle\n",
    "import numpy as np\n",
    "from collections import OrderedDict\n",
    "from common.layers import *\n",
    "from common.gradient import numerical_gradient\n",
    "\n",
    "\n",
    "class SimpleConvNet:\n",
    "\n",
    "    def __init__(self, input_dim=(1, 28, 28), \n",
    "                 conv_param={'filter_num':30, 'filter_size':5, 'pad':0, 'stride':1},\n",
    "                 hidden_size=100, output_size=10, weight_init_std=0.01):\n",
    "        \n",
    "        # 합성곱 계층의 하이퍼파라미터를 딕셔너리에 저장\n",
    "        filter_num = conv_param['filter_num']\n",
    "        filter_size = conv_param['filter_size']\n",
    "        filter_pad = conv_param['pad']\n",
    "        filter_stride = conv_param['stride']\n",
    "        input_size = input_dim[1]\n",
    "        # 합성곱 계층의 출력 크기 계산\n",
    "        conv_output_size = (input_size - filter_size + 2*filter_pad) / filter_stride + 1\n",
    "        pool_output_size = int(filter_num * (conv_output_size/2) * (conv_output_size/2))\n",
    "\n",
    "        # 가중치 초기화\n",
    "        self.params = {}\n",
    "        self.params['W1'] = weight_init_std * \\\n",
    "                            np.random.randn(filter_num, input_dim[0], filter_size, filter_size)\n",
    "        self.params['b1'] = np.zeros(filter_num)\n",
    "        self.params['W2'] = weight_init_std * \\\n",
    "                            np.random.randn(pool_output_size, hidden_size)\n",
    "        self.params['b2'] = np.zeros(hidden_size)\n",
    "        self.params['W3'] = weight_init_std * \\\n",
    "                            np.random.randn(hidden_size, output_size)\n",
    "        self.params['b3'] = np.zeros(output_size)\n",
    "\n",
    "        # 계층 생성\n",
    "        self.layers = OrderedDict()\n",
    "        self.layers['Conv1'] = Convolution(self.params['W1'], self.params['b1'],\n",
    "                                           conv_param['stride'], conv_param['pad'])\n",
    "        self.layers['Relu1'] = Relu()\n",
    "        self.layers['Pool1'] = Pooling(pool_h=2, pool_w=2, stride=2)\n",
    "        self.layers['Affine1'] = Affine(self.params['W2'], self.params['b2'])\n",
    "        self.layers['Relu2'] = Relu()\n",
    "        self.layers['Affine2'] = Affine(self.params['W3'], self.params['b3'])\n",
    "\n",
    "        self.last_layer = SoftmaxWithLoss()\n",
    "\n",
    "    def predict(self, x):\n",
    "        \"\"\"추론 수행\"\"\"\n",
    "        for layer in self.layers.values():\n",
    "            x = layer.forward(x)\n",
    "\n",
    "        return x\n",
    "\n",
    "    def loss(self, x, t):\n",
    "        \"\"\"손실 함수를 구한다.\n",
    "        Parameters\n",
    "        ----------\n",
    "        x : 입력 데이터\n",
    "        t : 정답 레이블\n",
    "        \"\"\"\n",
    "        y = self.predict(x)\n",
    "        return self.last_layer.forward(y, t)\n",
    "\n",
    "    def accuracy(self, x, t, batch_size=100):\n",
    "        if t.ndim != 1 : t = np.argmax(t, axis=1)\n",
    "        \n",
    "        acc = 0.0\n",
    "        \n",
    "        for i in range(int(x.shape[0] / batch_size)):\n",
    "            tx = x[i*batch_size:(i+1)*batch_size]\n",
    "            tt = t[i*batch_size:(i+1)*batch_size]\n",
    "            y = self.predict(tx)\n",
    "            y = np.argmax(y, axis=1)\n",
    "            acc += np.sum(y == tt) \n",
    "        \n",
    "        return acc / x.shape[0]\n",
    "\n",
    "    def numerical_gradient(self, x, t):\n",
    "        \"\"\"기울기를 구한다（수치미분）.\n",
    "        Parameters\n",
    "        ----------\n",
    "        x : 입력 데이터\n",
    "        t : 정답 레이블\n",
    "        Returns\n",
    "        -------\n",
    "        각 층의 기울기를 담은 사전(dictionary) 변수\n",
    "        grads['W1']、grads['W2']、... 각 층의 가중치\n",
    "        grads['b1']、grads['b2']、... 각 층의 편향\n",
    "        \"\"\"\n",
    "        loss_w = lambda w: self.loss(x, t)\n",
    "\n",
    "        grads = {}\n",
    "        for idx in (1, 2, 3):\n",
    "            grads['W' + str(idx)] = numerical_gradient(loss_w, self.params['W' + str(idx)])\n",
    "            grads['b' + str(idx)] = numerical_gradient(loss_w, self.params['b' + str(idx)])\n",
    "\n",
    "        return grads\n",
    "\n",
    "    def gradient(self, x, t):\n",
    "        \"\"\"기울기를 구한다(오차역전파법).\n",
    "        Parameters\n",
    "        ----------\n",
    "        x : 입력 데이터\n",
    "        t : 정답 레이블\n",
    "        Returns\n",
    "        -------\n",
    "        각 층의 기울기를 담은 사전(dictionary) 변수\n",
    "        grads['W1']、grads['W2']、... 각 층의 가중치\n",
    "        grads['b1']、grads['b2']、... 각 층의 편향\n",
    "        \"\"\"\n",
    "        # forward\n",
    "        self.loss(x, t)\n",
    "\n",
    "        # backward\n",
    "        dout = 1\n",
    "        dout = self.last_layer.backward(dout)\n",
    "\n",
    "        layers = list(self.layers.values())\n",
    "        layers.reverse()\n",
    "        for layer in layers:\n",
    "            dout = layer.backward(dout)\n",
    "\n",
    "        # 결과 저장\n",
    "        grads = {}\n",
    "        grads['W1'], grads['b1'] = self.layers['Conv1'].dW, self.layers['Conv1'].db\n",
    "        grads['W2'], grads['b2'] = self.layers['Affine1'].dW, self.layers['Affine1'].db\n",
    "        grads['W3'], grads['b3'] = self.layers['Affine2'].dW, self.layers['Affine2'].db\n",
    "\n",
    "        return grads\n",
    "        \n",
    "    def save_params(self, file_name=\"params.pkl\"):\n",
    "        params = {}\n",
    "        for key, val in self.params.items():\n",
    "            params[key] = val\n",
    "        with open(file_name, 'wb') as f:\n",
    "            pickle.dump(params, f)\n",
    "\n",
    "    def load_params(self, file_name=\"params.pkl\"):\n",
    "        with open(file_name, 'rb') as f:\n",
    "            params = pickle.load(f)\n",
    "        for key, val in params.items():\n",
    "            self.params[key] = val\n",
    "\n",
    "        for i, key in enumerate(['Conv1', 'Affine1', 'Affine2']):\n",
    "            self.layers[key].W = self.params['W' + str(i+1)]\n",
    "            self.layers[key].b = self.params['b' + str(i+1)]"
   ]
  },
  {
   "cell_type": "markdown",
   "id": "18e32934",
   "metadata": {},
   "source": [
    "초기화 때 받는 인수들은 다음과 같다.\n",
    "\n",
    "1. **input_dim** : 입력 데이터(채널 수, 높이, 너비)의 차원\n",
    "2. **conv_param** : 합성곱 계층의 파라미터\n",
    "3. **filter_num** : 필터 수\n",
    "4. **fiter_size** : 필터 크기\n",
    "5. **stride** : 스트라이드\n",
    "6. **pad** : 패딩\n",
    "7. **hidden_size** : 은닉층의 뉴런 수\n",
    "8. **output_size** : 출력층의 뉴런 수\n",
    "9. **weight_init_std** : 초기화 때의 가중치 표준편차"
   ]
  },
  {
   "cell_type": "markdown",
   "id": "742540ce",
   "metadata": {},
   "source": [
    "위 코드로 MNIST 데이터셋을 학습하는 코드는 다음과 같다."
   ]
  },
  {
   "cell_type": "code",
   "execution_count": 2,
   "id": "39503553",
   "metadata": {},
   "outputs": [
    {
     "name": "stderr",
     "output_type": "stream",
     "text": [
      "100%|██████████████████████████████████████████████████████████████████████████████| 1000/1000 [06:39<00:00,  2.50it/s]\n"
     ]
    },
    {
     "name": "stdout",
     "output_type": "stream",
     "text": [
      "test acc:0.957\n",
      "Saved Network Parameters!\n"
     ]
    },
    {
     "data": {
      "image/png": "[encoded data removed]",
      "text/plain": [
       "<Figure size 432x288 with 1 Axes>"
      ]
     },
     "metadata": {
      "needs_background": "light"
     },
     "output_type": "display_data"
    }
   ],
   "source": [
    "import sys, os\n",
    "sys.path.append(os.pardir)\n",
    "import numpy as np\n",
    "import matplotlib.pyplot as plt\n",
    "from dataset.mnist import load_mnist\n",
    "from common.trainer import Trainer\n",
    "\n",
    "\n",
    "from common.optimizer import *\n",
    "\n",
    "# 데이터 읽기\n",
    "(x_train, t_train), (x_test, t_test) = load_mnist(flatten=False)\n",
    "\n",
    "# 시간이 오래 걸릴 경우 데이터를 줄인다.\n",
    "x_train, t_train = x_train[:5000], t_train[:5000]\n",
    "x_test, t_test = x_test[:1000], t_test[:1000]\n",
    "\n",
    "max_epochs = 20\n",
    "\n",
    "network = SimpleConvNet(input_dim=(1,28,28), \n",
    "                        conv_param = {'filter_num': 30, 'filter_size': 5, 'pad': 0, 'stride': 1},\n",
    "                        hidden_size=100, output_size=10, weight_init_std=0.01)\n",
    "                        \n",
    "trainer = Trainer(network, x_train, t_train, x_test, t_test,\n",
    "                  epochs=max_epochs, mini_batch_size=100,\n",
    "                  optimizer='Adam', optimizer_param={'lr': 0.001},\n",
    "                  evaluate_sample_num_per_epoch=1000)\n",
    "trainer.train()\n",
    "    \n",
    "# 매개변수 보존\n",
    "network.save_params(\"params.pkl\")\n",
    "print(\"Saved Network Parameters!\")\n",
    "\n",
    "# 그래프 그리기\n",
    "markers = {'train': 'o', 'test': 's'}\n",
    "x = np.arange(max_epochs)\n",
    "plt.plot(x, trainer.train_acc_list, marker='o', label='train', markevery=2)\n",
    "plt.plot(x, trainer.test_acc_list, marker='s', label='test', markevery=2)\n",
    "plt.xlabel(\"epochs\")\n",
    "plt.ylabel(\"accuracy\")\n",
    "plt.ylim(0, 1.0)\n",
    "plt.legend(loc='lower right')\n",
    "plt.show()"
   ]
  }
 ],
 "metadata": {
  "kernelspec": {
   "display_name": "Python 3 (ipykernel)",
   "language": "python",
   "name": "python3"
  },
  "language_info": {
   "codemirror_mode": {
    "name": "ipython",
    "version": 3
   },
   "file_extension": ".py",
   "mimetype": "text/x-python",
   "name": "python",
   "nbconvert_exporter": "python",
   "pygments_lexer": "ipython3",
   "version": "3.8.12"
  }
 },
 "nbformat": 4,
 "nbformat_minor": 5
}
